{
 "cells": [
  {
   "cell_type": "code",
   "execution_count": 1,
   "id": "e3aa16a7",
   "metadata": {},
   "outputs": [],
   "source": [
    "import numpy as np\n",
    "import matplotlib.pyplot as plt\n",
    "import pandas as pd"
   ]
  },
  {
   "cell_type": "markdown",
   "id": "4789e87f",
   "metadata": {},
   "source": [
    "# Objective"
   ]
  },
  {
   "cell_type": "markdown",
   "id": "4393e14e",
   "metadata": {},
   "source": [
    "# Data Collection\n",
    "\n",
    "The data here has already been collected in this case, as repeating the same collection process takes several days."
   ]
  },
  {
   "cell_type": "code",
   "execution_count": 2,
   "id": "8ff9471b",
   "metadata": {},
   "outputs": [],
   "source": [
    "# An array of dataframes, one for each 'fandom'\n",
    "fandom_dfs = []\n",
    "\n",
    "csv_filenames = ['mha.csv', 'haikyuu.csv', 'aot.csv', 'bsd.csv', 'danganronpa.csv', 'hetalia.csv', 'jojo.csv', 'naruto.csv', 'onepiece.csv', 'pokemon.csv']\n",
    "\n",
    "for csv in csv_filenames:\n",
    "    fandom_dfs.append(pd.read_csv('data/' + csv))\n",
    "\n",
    "for i in range(len(fandom_dfs)):\n",
    "    fandom_dfs[i] = fandom_dfs[i][['Title', 'Author', 'Kudos', 'Comments', 'Bookmarks', 'Hits', 'Tags']]\n",
    "\n",
    "# An array of relevant tags according to AO3's open data from 2021\n",
    "tag_df = pd.read_csv('data/ordered_tags_20210226.csv')"
   ]
  },
  {
   "cell_type": "markdown",
   "id": "f8699bb5",
   "metadata": {},
   "source": [
    "# Data Cleaning"
   ]
  },
  {
   "cell_type": "code",
   "execution_count": 3,
   "id": "e2fd89e4",
   "metadata": {},
   "outputs": [],
   "source": [
    "# returns (true, canon name) if in database, and (false, none) else\n",
    "def inDatabase(name):\n",
    "    current = name\n",
    "    while True:\n",
    "        index = tag_df[\"name\"].searchsorted(current)\n",
    "        if current != tag_df[\"name\"].iloc[index]:\n",
    "            return (False, None)\n",
    "        \n",
    "        if tag_df['canonical'].iloc[index]:\n",
    "            return (True, tag_df['name'].iloc[index])\n",
    "        \n",
    "        if pd.isna(tag_df['merger_id'].iloc[index]):\n",
    "            return (False, None)\n",
    "        \n",
    "        current = tag_df['name'].iloc[int(tag_df['merger_id'].iloc[index])]\n",
    "        \n",
    "# Generates a list of tags that have canonical names\n",
    "def find_canonical_tags(tags):\n",
    "    tags = tags[2:-2].split('], [')\n",
    "    found_tags = []\n",
    "    if tags[0] == '':\n",
    "        return found_tags\n",
    "    for tag in tags:\n",
    "        pair = tag.split(', ')\n",
    "        name = pair[0][1:-1]\n",
    "        link = pair[1][1:-1]\n",
    "        in_database, canonical = inDatabase(name)\n",
    "        if in_database:\n",
    "            found_tags.append(canonical)\n",
    "            \n",
    "    return found_tags\n",
    "\n",
    "# Generates a listof tags that do not have a canonical name\n",
    "def find_missing_tags(tags):\n",
    "    unfound_tags = []\n",
    "    if tags[0] == '':\n",
    "        return unfound_tags\n",
    "    for tag in tags:\n",
    "        pair = tag.split(', ')\n",
    "        name = pair[0][1:-1]\n",
    "        link = pair[1][1:-1]\n",
    "        in_database, canonical = inDatabase(name)\n",
    "        if not in_database:\n",
    "            unfound_tags.append((False, name, link))\n",
    "            \n",
    "    return unfound_tags"
   ]
  },
  {
   "cell_type": "markdown",
   "id": "750d7b81",
   "metadata": {},
   "source": [
    "## Tags without a Common Name\n",
    "\n",
    "Most tags have a common name that they all route to. This is AO3's way of keeping their tagging system organized and compact. Tags that don't really add to the description of the work don't have this routing, although sometimes relevant tags are unmarked, since this is done by hand. \n",
    "\n",
    "As the list of common names, called \"canonical names\", is pulled from a 2021 dataset of tags provided by AO3 themselves, this section aimed to determine whether it was worth seeing if any of the tags have since been updated.\n",
    "\n",
    "After manually examining the list of the most frequent tags within this category, it was ultimately decided that it would be best to ignore tags not included in the 2021 dataset."
   ]
  },
  {
   "cell_type": "code",
   "execution_count": 4,
   "id": "2543e0e4",
   "metadata": {},
   "outputs": [],
   "source": [
    "# missing_tags_all = []\n",
    "# for fandom_df in fandom_dfs:\n",
    "#     missing_tags = {}\n",
    "#     for i in range(fandom_df.shape[0]):\n",
    "#         unfound = find_missing_tags(fandom_df.iloc[i]['Tags'][2:-2].split('], ['))\n",
    "#         for _, name, link in unfound:\n",
    "#             if name in missing_tags:\n",
    "#                 missing_tags[name][1] += 1\n",
    "#             else:\n",
    "#                 missing_tags[name] = [link, 1]\n",
    "                \n",
    "#     missing_tags_all.append(missing_tags)\n",
    "\n",
    "# for group in missing_tags_all:\n",
    "#     print(len(group))"
   ]
  },
  {
   "cell_type": "code",
   "execution_count": 5,
   "id": "1053e4f1",
   "metadata": {},
   "outputs": [],
   "source": [
    "# missing_tags_counter = {}\n",
    "# for i in range(len(missing_tags_all)):\n",
    "#     for name, data in missing_tags_all[i].items():\n",
    "#         if name not in missing_tags_counter:\n",
    "#             missing_tags_counter[name] = [0 for i in range(len(missing_tags_all))]\n",
    "#         missing_tags_counter[name][i] = 1\n",
    "\n",
    "# min_thresh = 10\n",
    "# for i in range(2, 11):\n",
    "#     repeated_tags = 0\n",
    "#     for tag, counters in missing_tags_counter.items():\n",
    "#         if sum(counters) >= i:\n",
    "#             repeated_tags += 1\n",
    "        \n",
    "#     print(f'{i}: {repeated_tags}')"
   ]
  },
  {
   "cell_type": "markdown",
   "id": "f5c7e825",
   "metadata": {},
   "source": [
    "## Tags with Common Names"
   ]
  },
  {
   "cell_type": "code",
   "execution_count": 6,
   "id": "5a999f52",
   "metadata": {
    "scrolled": true
   },
   "outputs": [],
   "source": [
    "for fandom_df in fandom_dfs:\n",
    "    fandom_df['Tags'] = fandom_df['Tags'].apply(find_canonical_tags)"
   ]
  },
  {
   "cell_type": "code",
   "execution_count": 7,
   "id": "a8d4a893",
   "metadata": {},
   "outputs": [
    {
     "name": "stdout",
     "output_type": "stream",
     "text": [
      "10826\n",
      "8811\n",
      "7450\n",
      "5384\n",
      "5842\n",
      "5861\n",
      "5850\n",
      "6741\n",
      "5088\n",
      "5429\n"
     ]
    }
   ],
   "source": [
    "tags_per_fandom = []\n",
    "for fandom_df in fandom_dfs:\n",
    "    tags = set()\n",
    "    for i in range(fandom_df.shape[0]):\n",
    "        tags.update(fandom_df.iloc[i]['Tags'])\n",
    "    \n",
    "    tags_per_fandom.append(tags)\n",
    "    print(len(tags))"
   ]
  },
  {
   "cell_type": "code",
   "execution_count": 8,
   "id": "ffd3a98a",
   "metadata": {},
   "outputs": [],
   "source": [
    "tag_spread_counter = {}\n",
    "for i in range(len(tags_per_fandom)):\n",
    "    for tag in tags_per_fandom[i]:\n",
    "        if tag not in tag_spread_counter:\n",
    "            tag_spread_counter[tag] = [0 for i in range(len(tags_per_fandom[i]))]\n",
    "            \n",
    "        tag_spread_counter[tag][i] = 1"
   ]
  },
  {
   "cell_type": "code",
   "execution_count": 9,
   "id": "8dbcfa90",
   "metadata": {},
   "outputs": [
    {
     "name": "stdout",
     "output_type": "stream",
     "text": [
      "[14627, 1239, 781, 640, 568, 508, 530, 570, 684, 2496]\n",
      "[22643, 8016, 6777, 5996, 5356, 4788, 4280, 3750, 3180, 2496]\n"
     ]
    }
   ],
   "source": [
    "tag_frequencies = []\n",
    "tag_frequencies_min = []\n",
    "for i in range(1, 11):\n",
    "    repeated_tags = 0\n",
    "    repeated_tags_min = 0\n",
    "    for tag, counters in tag_spread_counter.items():\n",
    "        if sum(counters) == i:\n",
    "            repeated_tags += 1\n",
    "        if sum(counters) >= i:\n",
    "            repeated_tags_min += 1\n",
    "            \n",
    "    tag_frequencies.append(repeated_tags)\n",
    "    tag_frequencies_min.append(repeated_tags_min)\n",
    "    \n",
    "print(tag_frequencies)\n",
    "print(tag_frequencies_min)"
   ]
  },
  {
   "cell_type": "code",
   "execution_count": 10,
   "id": "a2e47d45",
   "metadata": {},
   "outputs": [
    {
     "data": {
      "image/png": "[encoded data removed]",
      "text/plain": [
       "<Figure size 640x480 with 1 Axes>"
      ]
     },
     "metadata": {},
     "output_type": "display_data"
    },
    {
     "data": {
      "image/png": "[encoded data removed]",
      "text/plain": [
       "<Figure size 640x480 with 1 Axes>"
      ]
     },
     "metadata": {},
     "output_type": "display_data"
    }
   ],
   "source": [
    "plt.bar(range(2, 11), tag_frequencies[1:])\n",
    "plt.title('Frequency of Tags Across Fandoms')\n",
    "plt.xlabel('Number of Fandoms')\n",
    "plt.ylabel('Tag count')\n",
    "plt.show()\n",
    "\n",
    "plt.bar(range(2, 11), tag_frequencies_min[1:])\n",
    "plt.title('Frequency of Tags Across Fandoms, Cumulative')\n",
    "plt.xlabel('Number of Fandoms (Minimum)')\n",
    "plt.ylabel('Tag count')\n",
    "plt.show()"
   ]
  },
  {
   "cell_type": "markdown",
   "id": "7c9276e5",
   "metadata": {},
   "source": [
    "## Refactor Metrics\n",
    "\n",
    "The extraction algorithm used the number -1 to represent a value that was missing. However, it appears that the website hides metrics that are valued at zero, meaning that every occurence of -1 is actually supposed to be a 0."
   ]
  },
  {
   "cell_type": "code",
   "execution_count": 11,
   "id": "9c27f215",
   "metadata": {
    "scrolled": true
   },
   "outputs": [
    {
     "name": "stdout",
     "output_type": "stream",
     "text": [
      "99980\n"
     ]
    },
    {
     "data": {
      "text/plain": [
       "Title             0\n",
       "Author            0\n",
       "Kudos           0.0\n",
       "Comments    -3154.0\n",
       "Bookmarks    -193.0\n",
       "Hits            0.0\n",
       "Tags              0\n",
       "dtype: object"
      ]
     },
     "metadata": {},
     "output_type": "display_data"
    },
    {
     "name": "stdout",
     "output_type": "stream",
     "text": [
      "100000\n"
     ]
    },
    {
     "data": {
      "text/plain": [
       "Title              0\n",
       "Author             0\n",
       "Kudos            0.0\n",
       "Comments    -18473.0\n",
       "Bookmarks   -12452.0\n",
       "Hits             0.0\n",
       "Tags               0\n",
       "dtype: object"
      ]
     },
     "metadata": {},
     "output_type": "display_data"
    },
    {
     "name": "stdout",
     "output_type": "stream",
     "text": [
      "42334\n"
     ]
    },
    {
     "data": {
      "text/plain": [
       "Title              0\n",
       "Author             0\n",
       "Kudos         -549.0\n",
       "Comments    -11539.0\n",
       "Bookmarks    -9191.0\n",
       "Hits             0.0\n",
       "Tags               0\n",
       "dtype: object"
      ]
     },
     "metadata": {},
     "output_type": "display_data"
    },
    {
     "name": "stdout",
     "output_type": "stream",
     "text": [
      "34819\n"
     ]
    },
    {
     "data": {
      "text/plain": [
       "Title             0\n",
       "Author            0\n",
       "Kudos        -295.0\n",
       "Comments    -9052.0\n",
       "Bookmarks   -6352.0\n",
       "Hits            0.0\n",
       "Tags              0\n",
       "dtype: object"
      ]
     },
     "metadata": {},
     "output_type": "display_data"
    },
    {
     "name": "stdout",
     "output_type": "stream",
     "text": [
      "35925\n"
     ]
    },
    {
     "data": {
      "text/plain": [
       "Title             0\n",
       "Author            0\n",
       "Kudos        -429.0\n",
       "Comments    -8165.0\n",
       "Bookmarks   -7322.0\n",
       "Hits            0.0\n",
       "Tags              0\n",
       "dtype: object"
      ]
     },
     "metadata": {},
     "output_type": "display_data"
    },
    {
     "name": "stdout",
     "output_type": "stream",
     "text": [
      "33378\n"
     ]
    },
    {
     "data": {
      "text/plain": [
       "Title              0\n",
       "Author             0\n",
       "Kudos         -937.0\n",
       "Comments    -14353.0\n",
       "Bookmarks   -12268.0\n",
       "Hits             0.0\n",
       "Tags               0\n",
       "dtype: object"
      ]
     },
     "metadata": {},
     "output_type": "display_data"
    },
    {
     "name": "stdout",
     "output_type": "stream",
     "text": [
      "30086\n"
     ]
    },
    {
     "data": {
      "text/plain": [
       "Title             0\n",
       "Author            0\n",
       "Kudos        -413.0\n",
       "Comments    -9063.0\n",
       "Bookmarks   -7107.0\n",
       "Hits            0.0\n",
       "Tags              0\n",
       "dtype: object"
      ]
     },
     "metadata": {},
     "output_type": "display_data"
    },
    {
     "name": "stdout",
     "output_type": "stream",
     "text": [
      "59399\n"
     ]
    },
    {
     "data": {
      "text/plain": [
       "Title              0\n",
       "Author             0\n",
       "Kudos        -1020.0\n",
       "Comments    -15228.0\n",
       "Bookmarks   -11816.0\n",
       "Hits             0.0\n",
       "Tags               0\n",
       "dtype: object"
      ]
     },
     "metadata": {},
     "output_type": "display_data"
    },
    {
     "name": "stdout",
     "output_type": "stream",
     "text": [
      "29886\n"
     ]
    },
    {
     "data": {
      "text/plain": [
       "Title             0\n",
       "Author            0\n",
       "Kudos        -289.0\n",
       "Comments    -7576.0\n",
       "Bookmarks   -5411.0\n",
       "Hits            0.0\n",
       "Tags              0\n",
       "dtype: object"
      ]
     },
     "metadata": {},
     "output_type": "display_data"
    },
    {
     "name": "stdout",
     "output_type": "stream",
     "text": [
      "30745\n"
     ]
    },
    {
     "data": {
      "text/plain": [
       "Title              0\n",
       "Author             0\n",
       "Kudos        -1420.0\n",
       "Comments    -10438.0\n",
       "Bookmarks    -9458.0\n",
       "Hits             0.0\n",
       "Tags               0\n",
       "dtype: object"
      ]
     },
     "metadata": {},
     "output_type": "display_data"
    }
   ],
   "source": [
    "for fandom_df in fandom_dfs:\n",
    "    print(len(fandom_df))\n",
    "    display(fandom_df[fandom_df == -1].sum(axis = 0))\n",
    "    "
   ]
  },
  {
   "cell_type": "code",
   "execution_count": 28,
   "id": "62b4c077",
   "metadata": {},
   "outputs": [],
   "source": [
    "filtered_dfs = []\n",
    "for fandom_df in fandom_dfs:\n",
    "    filtered_df = fandom_df.copy()\n",
    "    filtered_df.loc[fandom_df['Kudos'] == -1,'Kudos'] = 0\n",
    "    filtered_df.loc[fandom_df['Comments'] == -1,'Comments'] = 0\n",
    "    filtered_df.loc[fandom_df['Bookmarks'] == -1,'Bookmarks'] = 0\n",
    "    filtered_df.loc[fandom_df['Hits'] == -1,'Hits'] = 0\n",
    "    filtered_dfs.append(filtered_df)"
   ]
  },
  {
   "cell_type": "code",
   "execution_count": 136,
   "id": "1a186a37",
   "metadata": {},
   "outputs": [
    {
     "name": "stdout",
     "output_type": "stream",
     "text": [
      "99980\n",
      "100000\n",
      "42334\n",
      "34819\n",
      "35925\n",
      "33378\n",
      "30086\n",
      "59399\n",
      "29886\n",
      "30745\n"
     ]
    }
   ],
   "source": [
    "for filtered_df in filtered_dfs:\n",
    "    print(len(filtered_df))"
   ]
  },
  {
   "cell_type": "markdown",
   "id": "12357e22",
   "metadata": {},
   "source": [
    "## Tag Filtering\n",
    "\n",
    "Tag filtering is composed of the following parts:\n",
    "1. Calculate number of occurences for each tag\n",
    "2. Calculate spread of each tag over all fandoms\n",
    "3. Remove tags that do not meet thresholds\n",
    "4. Remove data without any tags\n",
    "\n",
    "Additionally, data regarding tag metrics will be collected, but not used in the filtering process."
   ]
  },
  {
   "cell_type": "code",
   "execution_count": 46,
   "id": "aca67315",
   "metadata": {},
   "outputs": [],
   "source": [
    "min_occurences = 100\n",
    "min_fandom_occurences = 2"
   ]
  },
  {
   "cell_type": "code",
   "execution_count": 105,
   "id": "234b3c2e",
   "metadata": {
    "scrolled": false
   },
   "outputs": [],
   "source": [
    "# Each stat is an array of 11 numbers\n",
    "# 0-9 for each fandom, 10 represents the total\n",
    "# Stats: [name, count, kudos, comments, bookmarks, hits]\n",
    "tag_stats_dict = {}\n",
    "count_ind = 1\n",
    "kudo_ind = 12\n",
    "comment_ind = 23\n",
    "bookmark_ind = 34\n",
    "hit_ind = 45\n",
    "\n",
    "for i in range(len(filtered_dfs)):\n",
    "    df = filtered_dfs[i]\n",
    "    for j in range(df.shape[0]):\n",
    "        work = df.iloc[j]\n",
    "        for tag in work.Tags:\n",
    "            if tag not in tag_stats_dict:\n",
    "                tag_stats_dict[tag] = [0] \n",
    "                for _ in range(5):\n",
    "                    tag_stats_dict[tag].append([0 for x in range(len(filtered_dfs))])\n",
    "                    tag_stats_dict[tag].append(0)\n",
    "                tag_stats_dict[tag][0] = tag\n",
    "\n",
    "            tag_stats_dict[tag][1][i] += 1\n",
    "            tag_stats_dict[tag][2] += 1\n",
    "            tag_stats_dict[tag][3][i] += work.Kudos\n",
    "            tag_stats_dict[tag][4] += work.Kudos\n",
    "            tag_stats_dict[tag][5][i] += work.Comments\n",
    "            tag_stats_dict[tag][6] += work.Comments\n",
    "            tag_stats_dict[tag][7][i] += work.Bookmarks\n",
    "            tag_stats_dict[tag][8] += work.Bookmarks\n",
    "            tag_stats_dict[tag][9][i] += work.Hits\n",
    "            tag_stats_dict[tag][10] += work.Hits\n",
    "\n",
    "            \n",
    "    \n",
    "#     tags_per_fandom.append(tags)\n",
    "#     print(len(tags))"
   ]
  },
  {
   "cell_type": "code",
   "execution_count": 180,
   "id": "20680884",
   "metadata": {},
   "outputs": [],
   "source": [
    "tag_stats = list(tag_stats_dict.values())\n",
    "filtered_tags_df = pd.DataFrame(tag_stats, columns = ['Name', 'Count', 'Total Count', 'Kudos', 'Total Kudos', 'Comments', 'Total Comments', 'Bookmarks', 'Total Bookmarks', 'Hits', 'Total Hits'])"
   ]
  },
  {
   "cell_type": "code",
   "execution_count": 181,
   "id": "c7beea52",
   "metadata": {
    "scrolled": true
   },
   "outputs": [
    {
     "data": {
      "text/html": [
       "<div>\n",
       "<style scoped>\n",
       "    .dataframe tbody tr th:only-of-type {\n",
       "        vertical-align: middle;\n",
       "    }\n",
       "\n",
       "    .dataframe tbody tr th {\n",
       "        vertical-align: top;\n",
       "    }\n",
       "\n",
       "    .dataframe thead th {\n",
       "        text-align: right;\n",
       "    }\n",
       "</style>\n",
       "<table border=\"1\" class=\"dataframe\">\n",
       "  <thead>\n",
       "    <tr style=\"text-align: right;\">\n",
       "      <th></th>\n",
       "      <th>Name</th>\n",
       "      <th>Count</th>\n",
       "      <th>Total Count</th>\n",
       "      <th>Kudos</th>\n",
       "      <th>Total Kudos</th>\n",
       "      <th>Comments</th>\n",
       "      <th>Total Comments</th>\n",
       "      <th>Bookmarks</th>\n",
       "      <th>Total Bookmarks</th>\n",
       "      <th>Hits</th>\n",
       "      <th>Total Hits</th>\n",
       "      <th>Spread</th>\n",
       "    </tr>\n",
       "  </thead>\n",
       "  <tbody>\n",
       "    <tr>\n",
       "      <th>0</th>\n",
       "      <td>Alternate Universe - Canon Divergence</td>\n",
       "      <td>[6648, 2456, 1711, 1654, 1868, 92, 1443, 6009,...</td>\n",
       "      <td>25108</td>\n",
       "      <td>[5559155, 463251, 219324, 310376, 255720, 3586...</td>\n",
       "      <td>10089060</td>\n",
       "      <td>[914535, 52440, 29493, 28309, 56320, 643, 3023...</td>\n",
       "      <td>1533514</td>\n",
       "      <td>[1112736, 68015, 36562, 42074, 27675, 329, 224...</td>\n",
       "      <td>1955635</td>\n",
       "      <td>[93309455, 5188600, 3563130, 3683255, 4581961,...</td>\n",
       "      <td>159410364</td>\n",
       "      <td>2</td>\n",
       "    </tr>\n",
       "    <tr>\n",
       "      <th>1</th>\n",
       "      <td>BAMF Midoriya Izuku</td>\n",
       "      <td>[4429, 0, 0, 0, 0, 0, 0, 0, 0, 0]</td>\n",
       "      <td>4429</td>\n",
       "      <td>[5594336, 0, 0, 0, 0, 0, 0, 0, 0, 0]</td>\n",
       "      <td>5594336</td>\n",
       "      <td>[869101, 0, 0, 0, 0, 0, 0, 0, 0, 0]</td>\n",
       "      <td>869101</td>\n",
       "      <td>[1154737, 0, 0, 0, 0, 0, 0, 0, 0, 0]</td>\n",
       "      <td>1154737</td>\n",
       "      <td>[103917237, 0, 0, 0, 0, 0, 0, 0, 0, 0]</td>\n",
       "      <td>103917237</td>\n",
       "      <td>1</td>\n",
       "    </tr>\n",
       "    <tr>\n",
       "      <th>2</th>\n",
       "      <td>Parental Yagi Toshinori | All Might</td>\n",
       "      <td>[3477, 0, 0, 0, 0, 0, 0, 0, 0, 0]</td>\n",
       "      <td>3477</td>\n",
       "      <td>[3814634, 0, 0, 0, 0, 0, 0, 0, 0, 0]</td>\n",
       "      <td>3814634</td>\n",
       "      <td>[619174, 0, 0, 0, 0, 0, 0, 0, 0, 0]</td>\n",
       "      <td>619174</td>\n",
       "      <td>[801986, 0, 0, 0, 0, 0, 0, 0, 0, 0]</td>\n",
       "      <td>801986</td>\n",
       "      <td>[66716756, 0, 0, 0, 0, 0, 0, 0, 0, 0]</td>\n",
       "      <td>66716756</td>\n",
       "      <td>1</td>\n",
       "    </tr>\n",
       "    <tr>\n",
       "      <th>3</th>\n",
       "      <td>Alternate Universe - The Sixth Sense Fusion</td>\n",
       "      <td>[14, 1, 0, 0, 0, 0, 0, 0, 0, 0]</td>\n",
       "      <td>15</td>\n",
       "      <td>[108103, 45, 0, 0, 0, 0, 0, 0, 0, 0]</td>\n",
       "      <td>108148</td>\n",
       "      <td>[23376, 9, 0, 0, 0, 0, 0, 0, 0, 0]</td>\n",
       "      <td>23385</td>\n",
       "      <td>[23638, 8, 0, 0, 0, 0, 0, 0, 0, 0]</td>\n",
       "      <td>23646</td>\n",
       "      <td>[3021844, 437, 0, 0, 0, 0, 0, 0, 0, 0]</td>\n",
       "      <td>3022281</td>\n",
       "      <td>1</td>\n",
       "    </tr>\n",
       "    <tr>\n",
       "      <th>4</th>\n",
       "      <td>Bakugou Katsuki Swears A Lot</td>\n",
       "      <td>[11029, 0, 0, 1, 0, 0, 0, 0, 0, 0]</td>\n",
       "      <td>11030</td>\n",
       "      <td>[7354536, 0, 0, 253, 0, 0, 0, 0, 0, 0]</td>\n",
       "      <td>7354789</td>\n",
       "      <td>[856446, 0, 0, 22, 0, 0, 0, 0, 0, 0]</td>\n",
       "      <td>856468</td>\n",
       "      <td>[1221263, 0, 0, 33, 0, 0, 0, 0, 0, 0]</td>\n",
       "      <td>1221296</td>\n",
       "      <td>[103132464, 0, 0, 2296, 0, 0, 0, 0, 0, 0]</td>\n",
       "      <td>103134760</td>\n",
       "      <td>1</td>\n",
       "    </tr>\n",
       "    <tr>\n",
       "      <th>...</th>\n",
       "      <td>...</td>\n",
       "      <td>...</td>\n",
       "      <td>...</td>\n",
       "      <td>...</td>\n",
       "      <td>...</td>\n",
       "      <td>...</td>\n",
       "      <td>...</td>\n",
       "      <td>...</td>\n",
       "      <td>...</td>\n",
       "      <td>...</td>\n",
       "      <td>...</td>\n",
       "      <td>...</td>\n",
       "    </tr>\n",
       "    <tr>\n",
       "      <th>22638</th>\n",
       "      <td>Nanashima | Sevii Islands (Pokemon)</td>\n",
       "      <td>[0, 0, 0, 0, 0, 0, 0, 0, 0, 3]</td>\n",
       "      <td>3</td>\n",
       "      <td>[0, 0, 0, 0, 0, 0, 0, 0, 0, 0]</td>\n",
       "      <td>0</td>\n",
       "      <td>[0, 0, 0, 0, 0, 0, 0, 0, 0, 0]</td>\n",
       "      <td>0</td>\n",
       "      <td>[0, 0, 0, 0, 0, 0, 0, 0, 0, 0]</td>\n",
       "      <td>0</td>\n",
       "      <td>[0, 0, 0, 0, 0, 0, 0, 0, 0, 82]</td>\n",
       "      <td>82</td>\n",
       "      <td>1</td>\n",
       "    </tr>\n",
       "    <tr>\n",
       "      <th>22639</th>\n",
       "      <td>Supportive Victor Nikiforov</td>\n",
       "      <td>[0, 0, 0, 0, 0, 0, 0, 0, 0, 1]</td>\n",
       "      <td>1</td>\n",
       "      <td>[0, 0, 0, 0, 0, 0, 0, 0, 0, 0]</td>\n",
       "      <td>0</td>\n",
       "      <td>[0, 0, 0, 0, 0, 0, 0, 0, 0, 0]</td>\n",
       "      <td>0</td>\n",
       "      <td>[0, 0, 0, 0, 0, 0, 0, 0, 0, 0]</td>\n",
       "      <td>0</td>\n",
       "      <td>[0, 0, 0, 0, 0, 0, 0, 0, 0, 213]</td>\n",
       "      <td>213</td>\n",
       "      <td>1</td>\n",
       "    </tr>\n",
       "    <tr>\n",
       "      <th>22640</th>\n",
       "      <td>Team Sweden</td>\n",
       "      <td>[0, 0, 0, 0, 0, 0, 0, 0, 0, 1]</td>\n",
       "      <td>1</td>\n",
       "      <td>[0, 0, 0, 0, 0, 0, 0, 0, 0, 0]</td>\n",
       "      <td>0</td>\n",
       "      <td>[0, 0, 0, 0, 0, 0, 0, 0, 0, 0]</td>\n",
       "      <td>0</td>\n",
       "      <td>[0, 0, 0, 0, 0, 0, 0, 0, 0, 0]</td>\n",
       "      <td>0</td>\n",
       "      <td>[0, 0, 0, 0, 0, 0, 0, 0, 0, 8]</td>\n",
       "      <td>8</td>\n",
       "      <td>1</td>\n",
       "    </tr>\n",
       "    <tr>\n",
       "      <th>22641</th>\n",
       "      <td>Pokemon Pearl Version</td>\n",
       "      <td>[0, 0, 0, 0, 0, 0, 0, 0, 0, 1]</td>\n",
       "      <td>1</td>\n",
       "      <td>[0, 0, 0, 0, 0, 0, 0, 0, 0, 0]</td>\n",
       "      <td>0</td>\n",
       "      <td>[0, 0, 0, 0, 0, 0, 0, 0, 0, 0]</td>\n",
       "      <td>0</td>\n",
       "      <td>[0, 0, 0, 0, 0, 0, 0, 0, 0, 0]</td>\n",
       "      <td>0</td>\n",
       "      <td>[0, 0, 0, 0, 0, 0, 0, 0, 0, 37]</td>\n",
       "      <td>37</td>\n",
       "      <td>1</td>\n",
       "    </tr>\n",
       "    <tr>\n",
       "      <th>22642</th>\n",
       "      <td>Self-Fisting</td>\n",
       "      <td>[0, 0, 0, 0, 0, 0, 0, 0, 0, 1]</td>\n",
       "      <td>1</td>\n",
       "      <td>[0, 0, 0, 0, 0, 0, 0, 0, 0, 0]</td>\n",
       "      <td>0</td>\n",
       "      <td>[0, 0, 0, 0, 0, 0, 0, 0, 0, 0]</td>\n",
       "      <td>0</td>\n",
       "      <td>[0, 0, 0, 0, 0, 0, 0, 0, 0, 0]</td>\n",
       "      <td>0</td>\n",
       "      <td>[0, 0, 0, 0, 0, 0, 0, 0, 0, 174]</td>\n",
       "      <td>174</td>\n",
       "      <td>1</td>\n",
       "    </tr>\n",
       "  </tbody>\n",
       "</table>\n",
       "<p>22643 rows × 12 columns</p>\n",
       "</div>"
      ],
      "text/plain": [
       "                                              Name  \\\n",
       "0            Alternate Universe - Canon Divergence   \n",
       "1                              BAMF Midoriya Izuku   \n",
       "2              Parental Yagi Toshinori | All Might   \n",
       "3      Alternate Universe - The Sixth Sense Fusion   \n",
       "4                     Bakugou Katsuki Swears A Lot   \n",
       "...                                            ...   \n",
       "22638          Nanashima | Sevii Islands (Pokemon)   \n",
       "22639                  Supportive Victor Nikiforov   \n",
       "22640                                  Team Sweden   \n",
       "22641                        Pokemon Pearl Version   \n",
       "22642                                 Self-Fisting   \n",
       "\n",
       "                                                   Count  Total Count  \\\n",
       "0      [6648, 2456, 1711, 1654, 1868, 92, 1443, 6009,...        25108   \n",
       "1                      [4429, 0, 0, 0, 0, 0, 0, 0, 0, 0]         4429   \n",
       "2                      [3477, 0, 0, 0, 0, 0, 0, 0, 0, 0]         3477   \n",
       "3                        [14, 1, 0, 0, 0, 0, 0, 0, 0, 0]           15   \n",
       "4                     [11029, 0, 0, 1, 0, 0, 0, 0, 0, 0]        11030   \n",
       "...                                                  ...          ...   \n",
       "22638                     [0, 0, 0, 0, 0, 0, 0, 0, 0, 3]            3   \n",
       "22639                     [0, 0, 0, 0, 0, 0, 0, 0, 0, 1]            1   \n",
       "22640                     [0, 0, 0, 0, 0, 0, 0, 0, 0, 1]            1   \n",
       "22641                     [0, 0, 0, 0, 0, 0, 0, 0, 0, 1]            1   \n",
       "22642                     [0, 0, 0, 0, 0, 0, 0, 0, 0, 1]            1   \n",
       "\n",
       "                                                   Kudos  Total Kudos  \\\n",
       "0      [5559155, 463251, 219324, 310376, 255720, 3586...     10089060   \n",
       "1                   [5594336, 0, 0, 0, 0, 0, 0, 0, 0, 0]      5594336   \n",
       "2                   [3814634, 0, 0, 0, 0, 0, 0, 0, 0, 0]      3814634   \n",
       "3                   [108103, 45, 0, 0, 0, 0, 0, 0, 0, 0]       108148   \n",
       "4                 [7354536, 0, 0, 253, 0, 0, 0, 0, 0, 0]      7354789   \n",
       "...                                                  ...          ...   \n",
       "22638                     [0, 0, 0, 0, 0, 0, 0, 0, 0, 0]            0   \n",
       "22639                     [0, 0, 0, 0, 0, 0, 0, 0, 0, 0]            0   \n",
       "22640                     [0, 0, 0, 0, 0, 0, 0, 0, 0, 0]            0   \n",
       "22641                     [0, 0, 0, 0, 0, 0, 0, 0, 0, 0]            0   \n",
       "22642                     [0, 0, 0, 0, 0, 0, 0, 0, 0, 0]            0   \n",
       "\n",
       "                                                Comments  Total Comments  \\\n",
       "0      [914535, 52440, 29493, 28309, 56320, 643, 3023...         1533514   \n",
       "1                    [869101, 0, 0, 0, 0, 0, 0, 0, 0, 0]          869101   \n",
       "2                    [619174, 0, 0, 0, 0, 0, 0, 0, 0, 0]          619174   \n",
       "3                     [23376, 9, 0, 0, 0, 0, 0, 0, 0, 0]           23385   \n",
       "4                   [856446, 0, 0, 22, 0, 0, 0, 0, 0, 0]          856468   \n",
       "...                                                  ...             ...   \n",
       "22638                     [0, 0, 0, 0, 0, 0, 0, 0, 0, 0]               0   \n",
       "22639                     [0, 0, 0, 0, 0, 0, 0, 0, 0, 0]               0   \n",
       "22640                     [0, 0, 0, 0, 0, 0, 0, 0, 0, 0]               0   \n",
       "22641                     [0, 0, 0, 0, 0, 0, 0, 0, 0, 0]               0   \n",
       "22642                     [0, 0, 0, 0, 0, 0, 0, 0, 0, 0]               0   \n",
       "\n",
       "                                               Bookmarks  Total Bookmarks  \\\n",
       "0      [1112736, 68015, 36562, 42074, 27675, 329, 224...          1955635   \n",
       "1                   [1154737, 0, 0, 0, 0, 0, 0, 0, 0, 0]          1154737   \n",
       "2                    [801986, 0, 0, 0, 0, 0, 0, 0, 0, 0]           801986   \n",
       "3                     [23638, 8, 0, 0, 0, 0, 0, 0, 0, 0]            23646   \n",
       "4                  [1221263, 0, 0, 33, 0, 0, 0, 0, 0, 0]          1221296   \n",
       "...                                                  ...              ...   \n",
       "22638                     [0, 0, 0, 0, 0, 0, 0, 0, 0, 0]                0   \n",
       "22639                     [0, 0, 0, 0, 0, 0, 0, 0, 0, 0]                0   \n",
       "22640                     [0, 0, 0, 0, 0, 0, 0, 0, 0, 0]                0   \n",
       "22641                     [0, 0, 0, 0, 0, 0, 0, 0, 0, 0]                0   \n",
       "22642                     [0, 0, 0, 0, 0, 0, 0, 0, 0, 0]                0   \n",
       "\n",
       "                                                    Hits  Total Hits  Spread  \n",
       "0      [93309455, 5188600, 3563130, 3683255, 4581961,...   159410364       2  \n",
       "1                 [103917237, 0, 0, 0, 0, 0, 0, 0, 0, 0]   103917237       1  \n",
       "2                  [66716756, 0, 0, 0, 0, 0, 0, 0, 0, 0]    66716756       1  \n",
       "3                 [3021844, 437, 0, 0, 0, 0, 0, 0, 0, 0]     3022281       1  \n",
       "4              [103132464, 0, 0, 2296, 0, 0, 0, 0, 0, 0]   103134760       1  \n",
       "...                                                  ...         ...     ...  \n",
       "22638                    [0, 0, 0, 0, 0, 0, 0, 0, 0, 82]          82       1  \n",
       "22639                   [0, 0, 0, 0, 0, 0, 0, 0, 0, 213]         213       1  \n",
       "22640                     [0, 0, 0, 0, 0, 0, 0, 0, 0, 8]           8       1  \n",
       "22641                    [0, 0, 0, 0, 0, 0, 0, 0, 0, 37]          37       1  \n",
       "22642                   [0, 0, 0, 0, 0, 0, 0, 0, 0, 174]         174       1  \n",
       "\n",
       "[22643 rows x 12 columns]"
      ]
     },
     "execution_count": 181,
     "metadata": {},
     "output_type": "execute_result"
    }
   ],
   "source": [
    "def fandom_appearances(counts):\n",
    "    total_counts = 0\n",
    "    for count in counts:\n",
    "        total_counts += count\n",
    "        \n",
    "    threshold = total_counts * 0.1\n",
    "    total = 0\n",
    "    for count in counts:\n",
    "        if count > threshold:\n",
    "            total += 1\n",
    "    return total        \n",
    "    \n",
    "filtered_tags_df['Spread'] = filtered_tags_df['Count'].apply(fandom_appearances)\n",
    "filtered_tags_df"
   ]
  },
  {
   "cell_type": "code",
   "execution_count": 182,
   "id": "435343e7",
   "metadata": {
    "scrolled": false
   },
   "outputs": [
    {
     "name": "stdout",
     "output_type": "stream",
     "text": [
      "7683\n",
      "1905\n"
     ]
    },
    {
     "data": {
      "text/html": [
       "<div>\n",
       "<style scoped>\n",
       "    .dataframe tbody tr th:only-of-type {\n",
       "        vertical-align: middle;\n",
       "    }\n",
       "\n",
       "    .dataframe tbody tr th {\n",
       "        vertical-align: top;\n",
       "    }\n",
       "\n",
       "    .dataframe thead th {\n",
       "        text-align: right;\n",
       "    }\n",
       "</style>\n",
       "<table border=\"1\" class=\"dataframe\">\n",
       "  <thead>\n",
       "    <tr style=\"text-align: right;\">\n",
       "      <th></th>\n",
       "      <th>Name</th>\n",
       "      <th>Count</th>\n",
       "      <th>Total Count</th>\n",
       "      <th>Kudos</th>\n",
       "      <th>Total Kudos</th>\n",
       "      <th>Comments</th>\n",
       "      <th>Total Comments</th>\n",
       "      <th>Bookmarks</th>\n",
       "      <th>Total Bookmarks</th>\n",
       "      <th>Hits</th>\n",
       "      <th>Total Hits</th>\n",
       "      <th>Spread</th>\n",
       "    </tr>\n",
       "  </thead>\n",
       "  <tbody>\n",
       "    <tr>\n",
       "      <th>0</th>\n",
       "      <td>Alternate Universe - Canon Divergence</td>\n",
       "      <td>[6648, 2456, 1711, 1654, 1868, 92, 1443, 6009,...</td>\n",
       "      <td>25108</td>\n",
       "      <td>[5559155, 463251, 219324, 310376, 255720, 3586...</td>\n",
       "      <td>10089060</td>\n",
       "      <td>[914535, 52440, 29493, 28309, 56320, 643, 3023...</td>\n",
       "      <td>1533514</td>\n",
       "      <td>[1112736, 68015, 36562, 42074, 27675, 329, 224...</td>\n",
       "      <td>1955635</td>\n",
       "      <td>[93309455, 5188600, 3563130, 3683255, 4581961,...</td>\n",
       "      <td>159410364</td>\n",
       "      <td>2</td>\n",
       "    </tr>\n",
       "    <tr>\n",
       "      <th>6</th>\n",
       "      <td>Queerplatonic Relationships</td>\n",
       "      <td>[244, 145, 20, 31, 22, 11, 17, 44, 31, 26]</td>\n",
       "      <td>591</td>\n",
       "      <td>[297073, 40537, 4878, 4151, 1619, 720, 1268, 9...</td>\n",
       "      <td>367018</td>\n",
       "      <td>[60525, 4841, 412, 244, 296, 147, 427, 1277, 5...</td>\n",
       "      <td>69042</td>\n",
       "      <td>[60704, 8248, 629, 358, 173, 93, 147, 2353, 97...</td>\n",
       "      <td>73788</td>\n",
       "      <td>[6712677, 579104, 45992, 50222, 25002, 14471, ...</td>\n",
       "      <td>7685592</td>\n",
       "      <td>2</td>\n",
       "    </tr>\n",
       "    <tr>\n",
       "      <th>9</th>\n",
       "      <td>Panic Attacks</td>\n",
       "      <td>[2444, 949, 207, 362, 471, 80, 183, 229, 198, ...</td>\n",
       "      <td>5431</td>\n",
       "      <td>[1984564, 242119, 27577, 103773, 72296, 4718, ...</td>\n",
       "      <td>2695071</td>\n",
       "      <td>[258095, 28228, 3934, 9239, 9883, 1511, 3373, ...</td>\n",
       "      <td>363322</td>\n",
       "      <td>[353364, 31094, 3792, 12676, 6540, 528, 3552, ...</td>\n",
       "      <td>457443</td>\n",
       "      <td>[31828241, 3477553, 492070, 1418068, 1030152, ...</td>\n",
       "      <td>43112972</td>\n",
       "      <td>2</td>\n",
       "    </tr>\n",
       "    <tr>\n",
       "      <th>16</th>\n",
       "      <td>Misunderstandings</td>\n",
       "      <td>[1444, 1047, 158, 188, 147, 131, 134, 329, 171...</td>\n",
       "      <td>3845</td>\n",
       "      <td>[1062036, 339306, 32735, 55483, 24457, 12203, ...</td>\n",
       "      <td>1753517</td>\n",
       "      <td>[93011, 24580, 4368, 3835, 3330, 1298, 3782, 1...</td>\n",
       "      <td>157452</td>\n",
       "      <td>[175775, 47666, 4708, 6854, 2246, 1268, 2755, ...</td>\n",
       "      <td>277054</td>\n",
       "      <td>[11795810, 3463378, 445489, 572128, 320399, 17...</td>\n",
       "      <td>19787538</td>\n",
       "      <td>2</td>\n",
       "    </tr>\n",
       "    <tr>\n",
       "      <th>17</th>\n",
       "      <td>Bullying</td>\n",
       "      <td>[2115, 581, 182, 48, 304, 100, 87, 146, 42, 136]</td>\n",
       "      <td>3741</td>\n",
       "      <td>[2238703, 183547, 25688, 9743, 41108, 6347, 10...</td>\n",
       "      <td>2563151</td>\n",
       "      <td>[222099, 17878, 3634, 1314, 7662, 978, 2342, 4...</td>\n",
       "      <td>264153</td>\n",
       "      <td>[406996, 24468, 3081, 955, 3508, 484, 959, 622...</td>\n",
       "      <td>448688</td>\n",
       "      <td>[29573293, 2373268, 461169, 150665, 655532, 10...</td>\n",
       "      <td>34247745</td>\n",
       "      <td>2</td>\n",
       "    </tr>\n",
       "    <tr>\n",
       "      <th>...</th>\n",
       "      <td>...</td>\n",
       "      <td>...</td>\n",
       "      <td>...</td>\n",
       "      <td>...</td>\n",
       "      <td>...</td>\n",
       "      <td>...</td>\n",
       "      <td>...</td>\n",
       "      <td>...</td>\n",
       "      <td>...</td>\n",
       "      <td>...</td>\n",
       "      <td>...</td>\n",
       "      <td>...</td>\n",
       "    </tr>\n",
       "    <tr>\n",
       "      <th>11283</th>\n",
       "      <td>Pre-Time Skip</td>\n",
       "      <td>[0, 372, 15, 1, 0, 0, 1, 38, 386, 0]</td>\n",
       "      <td>813</td>\n",
       "      <td>[0, 49759, 670, 180, 0, 0, 84, 10521, 88431, 0]</td>\n",
       "      <td>149645</td>\n",
       "      <td>[0, 4327, 54, 4, 0, 0, 3, 1128, 5723, 0]</td>\n",
       "      <td>11239</td>\n",
       "      <td>[0, 6729, 72, 24, 0, 0, 7, 2213, 11548, 0]</td>\n",
       "      <td>20593</td>\n",
       "      <td>[0, 479605, 7311, 2359, 0, 0, 1321, 169803, 83...</td>\n",
       "      <td>1494415</td>\n",
       "      <td>2</td>\n",
       "    </tr>\n",
       "    <tr>\n",
       "      <th>12054</th>\n",
       "      <td>Post-Game(s)</td>\n",
       "      <td>[0, 8, 0, 0, 565, 1, 0, 0, 0, 346]</td>\n",
       "      <td>920</td>\n",
       "      <td>[0, 993, 0, 0, 76103, 2, 0, 0, 0, 36878]</td>\n",
       "      <td>113976</td>\n",
       "      <td>[0, 38, 0, 0, 9049, 0, 0, 0, 0, 5764]</td>\n",
       "      <td>14851</td>\n",
       "      <td>[0, 85, 0, 0, 7725, 0, 0, 0, 0, 4360]</td>\n",
       "      <td>12170</td>\n",
       "      <td>[0, 7721, 0, 0, 967347, 43, 0, 0, 0, 538607]</td>\n",
       "      <td>1513718</td>\n",
       "      <td>2</td>\n",
       "    </tr>\n",
       "    <tr>\n",
       "      <th>13000</th>\n",
       "      <td>19th Century</td>\n",
       "      <td>[0, 4, 11, 3, 5, 69, 9, 3, 0, 2]</td>\n",
       "      <td>106</td>\n",
       "      <td>[0, 198, 1324, 172, 194, 2802, 562, 134, 0, 14]</td>\n",
       "      <td>5400</td>\n",
       "      <td>[0, 23, 325, 8, 19, 394, 81, 32, 0, 8]</td>\n",
       "      <td>890</td>\n",
       "      <td>[0, 18, 189, 14, 16, 321, 49, 29, 0, 1]</td>\n",
       "      <td>637</td>\n",
       "      <td>[0, 1633, 26213, 2257, 2457, 47500, 10213, 163...</td>\n",
       "      <td>92106</td>\n",
       "      <td>2</td>\n",
       "    </tr>\n",
       "    <tr>\n",
       "      <th>13995</th>\n",
       "      <td>Discord: Poulécriture</td>\n",
       "      <td>[0, 3, 13, 0, 0, 14, 0, 97, 96, 3]</td>\n",
       "      <td>226</td>\n",
       "      <td>[0, 44, 79, 0, 0, 86, 0, 434, 769, 65]</td>\n",
       "      <td>1477</td>\n",
       "      <td>[0, 14, 8, 0, 0, 31, 0, 183, 112, 13]</td>\n",
       "      <td>361</td>\n",
       "      <td>[0, 2, 10, 0, 0, 8, 0, 8, 19, 2]</td>\n",
       "      <td>49</td>\n",
       "      <td>[0, 544, 1350, 0, 0, 909, 0, 7507, 10760, 680]</td>\n",
       "      <td>21750</td>\n",
       "      <td>2</td>\n",
       "    </tr>\n",
       "    <tr>\n",
       "      <th>15083</th>\n",
       "      <td>Alternate Universe - Gakuen</td>\n",
       "      <td>[0, 0, 2, 76, 1, 73, 0, 1, 0, 0]</td>\n",
       "      <td>153</td>\n",
       "      <td>[0, 0, 320, 13000, 0, 3931, 0, 3, 0, 0]</td>\n",
       "      <td>17254</td>\n",
       "      <td>[0, 0, 12, 1169, 0, 248, 0, 0, 0, 0]</td>\n",
       "      <td>1429</td>\n",
       "      <td>[0, 0, 49, 1495, 0, 338, 0, 0, 0, 0]</td>\n",
       "      <td>1882</td>\n",
       "      <td>[0, 0, 5068, 161406, 60, 50673, 0, 455, 0, 0]</td>\n",
       "      <td>217662</td>\n",
       "      <td>2</td>\n",
       "    </tr>\n",
       "  </tbody>\n",
       "</table>\n",
       "<p>426 rows × 12 columns</p>\n",
       "</div>"
      ],
      "text/plain": [
       "                                        Name  \\\n",
       "0      Alternate Universe - Canon Divergence   \n",
       "6                Queerplatonic Relationships   \n",
       "9                              Panic Attacks   \n",
       "16                         Misunderstandings   \n",
       "17                                  Bullying   \n",
       "...                                      ...   \n",
       "11283                          Pre-Time Skip   \n",
       "12054                           Post-Game(s)   \n",
       "13000                           19th Century   \n",
       "13995                  Discord: Poulécriture   \n",
       "15083            Alternate Universe - Gakuen   \n",
       "\n",
       "                                                   Count  Total Count  \\\n",
       "0      [6648, 2456, 1711, 1654, 1868, 92, 1443, 6009,...        25108   \n",
       "6             [244, 145, 20, 31, 22, 11, 17, 44, 31, 26]          591   \n",
       "9      [2444, 949, 207, 362, 471, 80, 183, 229, 198, ...         5431   \n",
       "16     [1444, 1047, 158, 188, 147, 131, 134, 329, 171...         3845   \n",
       "17      [2115, 581, 182, 48, 304, 100, 87, 146, 42, 136]         3741   \n",
       "...                                                  ...          ...   \n",
       "11283               [0, 372, 15, 1, 0, 0, 1, 38, 386, 0]          813   \n",
       "12054                 [0, 8, 0, 0, 565, 1, 0, 0, 0, 346]          920   \n",
       "13000                   [0, 4, 11, 3, 5, 69, 9, 3, 0, 2]          106   \n",
       "13995                 [0, 3, 13, 0, 0, 14, 0, 97, 96, 3]          226   \n",
       "15083                   [0, 0, 2, 76, 1, 73, 0, 1, 0, 0]          153   \n",
       "\n",
       "                                                   Kudos  Total Kudos  \\\n",
       "0      [5559155, 463251, 219324, 310376, 255720, 3586...     10089060   \n",
       "6      [297073, 40537, 4878, 4151, 1619, 720, 1268, 9...       367018   \n",
       "9      [1984564, 242119, 27577, 103773, 72296, 4718, ...      2695071   \n",
       "16     [1062036, 339306, 32735, 55483, 24457, 12203, ...      1753517   \n",
       "17     [2238703, 183547, 25688, 9743, 41108, 6347, 10...      2563151   \n",
       "...                                                  ...          ...   \n",
       "11283    [0, 49759, 670, 180, 0, 0, 84, 10521, 88431, 0]       149645   \n",
       "12054           [0, 993, 0, 0, 76103, 2, 0, 0, 0, 36878]       113976   \n",
       "13000    [0, 198, 1324, 172, 194, 2802, 562, 134, 0, 14]         5400   \n",
       "13995             [0, 44, 79, 0, 0, 86, 0, 434, 769, 65]         1477   \n",
       "15083            [0, 0, 320, 13000, 0, 3931, 0, 3, 0, 0]        17254   \n",
       "\n",
       "                                                Comments  Total Comments  \\\n",
       "0      [914535, 52440, 29493, 28309, 56320, 643, 3023...         1533514   \n",
       "6      [60525, 4841, 412, 244, 296, 147, 427, 1277, 5...           69042   \n",
       "9      [258095, 28228, 3934, 9239, 9883, 1511, 3373, ...          363322   \n",
       "16     [93011, 24580, 4368, 3835, 3330, 1298, 3782, 1...          157452   \n",
       "17     [222099, 17878, 3634, 1314, 7662, 978, 2342, 4...          264153   \n",
       "...                                                  ...             ...   \n",
       "11283           [0, 4327, 54, 4, 0, 0, 3, 1128, 5723, 0]           11239   \n",
       "12054              [0, 38, 0, 0, 9049, 0, 0, 0, 0, 5764]           14851   \n",
       "13000             [0, 23, 325, 8, 19, 394, 81, 32, 0, 8]             890   \n",
       "13995              [0, 14, 8, 0, 0, 31, 0, 183, 112, 13]             361   \n",
       "15083               [0, 0, 12, 1169, 0, 248, 0, 0, 0, 0]            1429   \n",
       "\n",
       "                                               Bookmarks  Total Bookmarks  \\\n",
       "0      [1112736, 68015, 36562, 42074, 27675, 329, 224...          1955635   \n",
       "6      [60704, 8248, 629, 358, 173, 93, 147, 2353, 97...            73788   \n",
       "9      [353364, 31094, 3792, 12676, 6540, 528, 3552, ...           457443   \n",
       "16     [175775, 47666, 4708, 6854, 2246, 1268, 2755, ...           277054   \n",
       "17     [406996, 24468, 3081, 955, 3508, 484, 959, 622...           448688   \n",
       "...                                                  ...              ...   \n",
       "11283         [0, 6729, 72, 24, 0, 0, 7, 2213, 11548, 0]            20593   \n",
       "12054              [0, 85, 0, 0, 7725, 0, 0, 0, 0, 4360]            12170   \n",
       "13000            [0, 18, 189, 14, 16, 321, 49, 29, 0, 1]              637   \n",
       "13995                   [0, 2, 10, 0, 0, 8, 0, 8, 19, 2]               49   \n",
       "15083               [0, 0, 49, 1495, 0, 338, 0, 0, 0, 0]             1882   \n",
       "\n",
       "                                                    Hits  Total Hits  Spread  \n",
       "0      [93309455, 5188600, 3563130, 3683255, 4581961,...   159410364       2  \n",
       "6      [6712677, 579104, 45992, 50222, 25002, 14471, ...     7685592       2  \n",
       "9      [31828241, 3477553, 492070, 1418068, 1030152, ...    43112972       2  \n",
       "16     [11795810, 3463378, 445489, 572128, 320399, 17...    19787538       2  \n",
       "17     [29573293, 2373268, 461169, 150665, 655532, 10...    34247745       2  \n",
       "...                                                  ...         ...     ...  \n",
       "11283  [0, 479605, 7311, 2359, 0, 0, 1321, 169803, 83...     1494415       2  \n",
       "12054       [0, 7721, 0, 0, 967347, 43, 0, 0, 0, 538607]     1513718       2  \n",
       "13000  [0, 1633, 26213, 2257, 2457, 47500, 10213, 163...       92106       2  \n",
       "13995     [0, 544, 1350, 0, 0, 909, 0, 7507, 10760, 680]       21750       2  \n",
       "15083      [0, 0, 5068, 161406, 60, 50673, 0, 455, 0, 0]      217662       2  \n",
       "\n",
       "[426 rows x 12 columns]"
      ]
     },
     "metadata": {},
     "output_type": "display_data"
    },
    {
     "data": {
      "text/plain": [
       "426"
      ]
     },
     "metadata": {},
     "output_type": "display_data"
    }
   ],
   "source": [
    "filtered_tags_df = filtered_tags_df[filtered_tags_df['Spread'] > 1]\n",
    "print(len(filtered_tags_df))\n",
    "filtered_tags_df = filtered_tags_df[filtered_tags_df['Total Count'] > 100]\n",
    "print(len(filtered_tags_df))\n",
    "view = filtered_tags_df[filtered_tags_df['Spread'] == 2]\n",
    "display(view)\n",
    "display(len(view))"
   ]
  },
  {
   "cell_type": "code",
   "execution_count": null,
   "id": "07ac1962",
   "metadata": {},
   "outputs": [],
   "source": []
  },
  {
   "cell_type": "code",
   "execution_count": 141,
   "id": "a0b7d42b",
   "metadata": {},
   "outputs": [
    {
     "name": "stdout",
     "output_type": "stream",
     "text": [
      "438801\n"
     ]
    }
   ],
   "source": [
    "sum = 0\n",
    "for filtered_df in filtered_dfs:\n",
    "    sum += len(filtered_df[filtered_df['Tags'].apply(lambda x: len(x)) != 0])\n",
    "    \n",
    "print(sum)"
   ]
  },
  {
   "cell_type": "code",
   "execution_count": null,
   "id": "e3fbac48",
   "metadata": {},
   "outputs": [],
   "source": []
  },
  {
   "cell_type": "code",
   "execution_count": null,
   "id": "317ed76d",
   "metadata": {},
   "outputs": [],
   "source": []
  }
 ],
 "metadata": {
  "kernelspec": {
   "display_name": "Python 3 (ipykernel)",
   "language": "python",
   "name": "python3"
  },
  "language_info": {
   "codemirror_mode": {
    "name": "ipython",
    "version": 3
   },
   "file_extension": ".py",
   "mimetype": "text/x-python",
   "name": "python",
   "nbconvert_exporter": "python",
   "pygments_lexer": "ipython3",
   "version": "3.9.12"
  }
 },
 "nbformat": 4,
 "nbformat_minor": 5
}
