{
 "cells": [
  {
   "cell_type": "code",
   "execution_count": 1,
   "id": "e3aa16a7",
   "metadata": {},
   "outputs": [],
   "source": [
    "import numpy as np\n",
    "import matplotlib.pyplot as plt\n",
    "import pandas as pd"
   ]
  },
  {
   "cell_type": "markdown",
   "id": "4789e87f",
   "metadata": {},
   "source": [
    "# Objective\n",
    "\n",
    "The goal of this project is to analyze the effectiveness of labels within the fanfiction website \"Archives Of Our Own\" (AO3) in respect to the popularity of each fanfiction. Labels are author-determined, but are heavily moderated within the website for consistency. The goal is to determine influential tags in determining popularity of works."
   ]
  },
  {
   "cell_type": "markdown",
   "id": "4393e14e",
   "metadata": {},
   "source": [
    "# Data Collection\n",
    "\n",
    "The data here has already been collected in this case, as repeating the same collection process takes several days. The code for this can be found in other files within this repository."
   ]
  },
  {
   "cell_type": "code",
   "execution_count": 2,
   "id": "8ff9471b",
   "metadata": {},
   "outputs": [],
   "source": [
    "# An array of dataframes, one for each 'fandom'\n",
    "fandom_dfs = []\n",
    "\n",
    "csv_filenames = ['mha.csv', 'haikyuu.csv', 'aot.csv', 'bsd.csv', 'danganronpa.csv', 'hetalia.csv', 'jojo.csv', 'naruto.csv', 'onepiece.csv', 'pokemon.csv']\n",
    "\n",
    "for csv in csv_filenames:\n",
    "    fandom_dfs.append(pd.read_csv('data/' + csv))\n",
    "\n",
    "for i in range(len(fandom_dfs)):\n",
    "    fandom_dfs[i] = fandom_dfs[i][['Title', 'Author', 'Kudos', 'Comments', 'Bookmarks', 'Hits', 'Tags']]\n",
    "\n",
    "# An array of relevant tags according to AO3's open data from 2021\n",
    "tag_df = pd.read_csv('data/ordered_tags_20210226.csv')"
   ]
  },
  {
   "cell_type": "code",
   "execution_count": 3,
   "id": "79ab766b",
   "metadata": {},
   "outputs": [
    {
     "data": {
      "text/plain": [
       "array([0.2013485 , 0.20138878, 0.08525592, 0.07012156, 0.07234892,\n",
       "       0.06721955, 0.06058983, 0.11962292, 0.06018705, 0.06191698])"
      ]
     },
     "execution_count": 3,
     "metadata": {},
     "output_type": "execute_result"
    }
   ],
   "source": [
    "fandom_sizes = np.array([len(fandom) for fandom in fandom_dfs])\n",
    "fandom_sizes_norm = fandom_sizes/fandom_sizes.sum()\n",
    "fandom_sizes_norm"
   ]
  },
  {
   "cell_type": "markdown",
   "id": "f8699bb5",
   "metadata": {},
   "source": [
    "# Data Cleaning\n",
    "\n",
    "This section is meant to prune the tags to tags that are a) popular and b) universal (not media-specific).\n",
    "\n",
    "Notably, My Hero Academia is perhaps the most popular category in this site and has a lot of tags that only relate to My Hero Academia and its characters."
   ]
  },
  {
   "cell_type": "code",
   "execution_count": 4,
   "id": "e2fd89e4",
   "metadata": {},
   "outputs": [],
   "source": [
    "# returns (true, canon name) if in database, and (false, none) else\n",
    "def inDatabase(name):\n",
    "    current = name\n",
    "    while True:\n",
    "        index = tag_df[\"name\"].searchsorted(current)\n",
    "        if current != tag_df[\"name\"].iloc[index]:\n",
    "            return (False, None)\n",
    "        \n",
    "        if tag_df['canonical'].iloc[index]:\n",
    "            return (True, tag_df['name'].iloc[index])\n",
    "        \n",
    "        if pd.isna(tag_df['merger_id'].iloc[index]):\n",
    "            return (False, None)\n",
    "        \n",
    "        current = tag_df['name'].iloc[int(tag_df['merger_id'].iloc[index])]\n",
    "        \n",
    "# Generates a list of tags that have canonical names\n",
    "def find_canonical_tags(tags):\n",
    "    tags = tags[2:-2].split('], [')\n",
    "    found_tags = []\n",
    "    if tags[0] == '':\n",
    "        return found_tags\n",
    "    for tag in tags:\n",
    "        pair = tag.split(', ')\n",
    "        name = pair[0][1:-1]\n",
    "        link = pair[1][1:-1]\n",
    "        in_database, canonical = inDatabase(name)\n",
    "        if in_database:\n",
    "            found_tags.append(canonical)\n",
    "            \n",
    "    return found_tags\n",
    "\n",
    "# Generates a listof tags that do not have a canonical name\n",
    "def find_missing_tags(tags):\n",
    "    unfound_tags = []\n",
    "    if tags[0] == '':\n",
    "        return unfound_tags\n",
    "    for tag in tags:\n",
    "        pair = tag.split(', ')\n",
    "        name = pair[0][1:-1]\n",
    "        link = pair[1][1:-1]\n",
    "        in_database, canonical = inDatabase(name)\n",
    "        if not in_database:\n",
    "            unfound_tags.append((False, name, link))\n",
    "            \n",
    "    return unfound_tags"
   ]
  },
  {
   "cell_type": "markdown",
   "id": "750d7b81",
   "metadata": {},
   "source": [
    "## Tags without a Common Name\n",
    "\n",
    "Most tags have a common name that they all route to. This is AO3's way of keeping their tagging system organized and compact. Tags that don't really add to the description of the work don't have this routing, although sometimes relevant tags are unmarked, since this is done by hand. \n",
    "\n",
    "As the list of common names, called \"canonical names\", is pulled from a 2021 dataset of tags provided by AO3 themselves, this section aimed to determine whether it was worth seeing if any of the tags have since been updated.\n",
    "\n",
    "After manually examining the list of the most frequent tags within this category, it was ultimately decided that it would be best to ignore tags not included in the 2021 dataset."
   ]
  },
  {
   "cell_type": "code",
   "execution_count": 5,
   "id": "2543e0e4",
   "metadata": {},
   "outputs": [],
   "source": [
    "# missing_tags_all = []\n",
    "# for fandom_df in fandom_dfs:\n",
    "#     missing_tags = {}\n",
    "#     for i in range(fandom_df.shape[0]):\n",
    "#         unfound = find_missing_tags(fandom_df.iloc[i]['Tags'][2:-2].split('], ['))\n",
    "#         for _, name, link in unfound:\n",
    "#             if name in missing_tags:\n",
    "#                 missing_tags[name][1] += 1\n",
    "#             else:\n",
    "#                 missing_tags[name] = [link, 1]\n",
    "                \n",
    "#     missing_tags_all.append(missing_tags)\n",
    "\n",
    "# for group in missing_tags_all:\n",
    "#     print(len(group))"
   ]
  },
  {
   "cell_type": "code",
   "execution_count": 6,
   "id": "1053e4f1",
   "metadata": {},
   "outputs": [],
   "source": [
    "# missing_tags_counter = {}\n",
    "# for i in range(len(missing_tags_all)):\n",
    "#     for name, data in missing_tags_all[i].items():\n",
    "#         if name not in missing_tags_counter:\n",
    "#             missing_tags_counter[name] = [0 for i in range(len(missing_tags_all))]\n",
    "#         missing_tags_counter[name][i] = 1\n",
    "\n",
    "# min_thresh = 10\n",
    "# for i in range(2, 11):\n",
    "#     repeated_tags = 0\n",
    "#     for tag, counters in missing_tags_counter.items():\n",
    "#         if sum(counters) >= i:\n",
    "#             repeated_tags += 1\n",
    "        \n",
    "#     print(f'{i}: {repeated_tags}')"
   ]
  },
  {
   "cell_type": "markdown",
   "id": "f5c7e825",
   "metadata": {},
   "source": [
    "## Tags with Common Names"
   ]
  },
  {
   "cell_type": "code",
   "execution_count": 7,
   "id": "5a999f52",
   "metadata": {
    "scrolled": true
   },
   "outputs": [],
   "source": [
    "for fandom_df in fandom_dfs:\n",
    "    fandom_df['Tags'] = fandom_df['Tags'].apply(find_canonical_tags)"
   ]
  },
  {
   "cell_type": "code",
   "execution_count": 8,
   "id": "a8d4a893",
   "metadata": {},
   "outputs": [
    {
     "name": "stdout",
     "output_type": "stream",
     "text": [
      "10826\n",
      "8811\n",
      "7450\n",
      "5384\n",
      "5842\n",
      "5861\n",
      "5850\n",
      "6741\n",
      "5088\n",
      "5429\n"
     ]
    }
   ],
   "source": [
    "tags_per_fandom = []\n",
    "for fandom_df in fandom_dfs:\n",
    "    tags = set()\n",
    "    for i in range(fandom_df.shape[0]):\n",
    "        tags.update(fandom_df.iloc[i]['Tags'])\n",
    "    \n",
    "    tags_per_fandom.append(tags)\n",
    "    print(len(tags))"
   ]
  },
  {
   "cell_type": "code",
   "execution_count": 9,
   "id": "ffd3a98a",
   "metadata": {},
   "outputs": [],
   "source": [
    "tag_spread_counter = {}\n",
    "for i in range(len(tags_per_fandom)):\n",
    "    for tag in tags_per_fandom[i]:\n",
    "        if tag not in tag_spread_counter:\n",
    "            tag_spread_counter[tag] = [0 for i in range(len(tags_per_fandom[i]))]\n",
    "            \n",
    "        tag_spread_counter[tag][i] = 1"
   ]
  },
  {
   "cell_type": "code",
   "execution_count": 10,
   "id": "8dbcfa90",
   "metadata": {},
   "outputs": [
    {
     "name": "stdout",
     "output_type": "stream",
     "text": [
      "[14627, 1239, 781, 640, 568, 508, 530, 570, 684, 2496]\n",
      "[22643, 8016, 6777, 5996, 5356, 4788, 4280, 3750, 3180, 2496]\n"
     ]
    }
   ],
   "source": [
    "tag_frequencies = []\n",
    "tag_frequencies_min = []\n",
    "for i in range(1, 11):\n",
    "    repeated_tags = 0\n",
    "    repeated_tags_min = 0\n",
    "    for tag, counters in tag_spread_counter.items():\n",
    "        if sum(counters) == i:\n",
    "            repeated_tags += 1\n",
    "        if sum(counters) >= i:\n",
    "            repeated_tags_min += 1\n",
    "            \n",
    "    tag_frequencies.append(repeated_tags)\n",
    "    tag_frequencies_min.append(repeated_tags_min)\n",
    "    \n",
    "print(tag_frequencies)\n",
    "print(tag_frequencies_min)"
   ]
  },
  {
   "cell_type": "markdown",
   "id": "7c9276e5",
   "metadata": {},
   "source": [
    "## Refactor Metrics\n",
    "\n",
    "The extraction algorithm used the number -1 to represent a value that was missing. However, it appears that the website hides metrics that are valued at zero, meaning that every occurence of -1 is actually supposed to be a 0."
   ]
  },
  {
   "cell_type": "code",
   "execution_count": 12,
   "id": "9c27f215",
   "metadata": {
    "scrolled": true
   },
   "outputs": [
    {
     "name": "stdout",
     "output_type": "stream",
     "text": [
      "99980\n"
     ]
    },
    {
     "data": {
      "text/plain": [
       "Title             0\n",
       "Author            0\n",
       "Kudos           0.0\n",
       "Comments    -3154.0\n",
       "Bookmarks    -193.0\n",
       "Hits            0.0\n",
       "Tags              0\n",
       "dtype: object"
      ]
     },
     "metadata": {},
     "output_type": "display_data"
    },
    {
     "name": "stdout",
     "output_type": "stream",
     "text": [
      "100000\n"
     ]
    },
    {
     "data": {
      "text/plain": [
       "Title              0\n",
       "Author             0\n",
       "Kudos            0.0\n",
       "Comments    -18473.0\n",
       "Bookmarks   -12452.0\n",
       "Hits             0.0\n",
       "Tags               0\n",
       "dtype: object"
      ]
     },
     "metadata": {},
     "output_type": "display_data"
    },
    {
     "name": "stdout",
     "output_type": "stream",
     "text": [
      "42334\n"
     ]
    },
    {
     "data": {
      "text/plain": [
       "Title              0\n",
       "Author             0\n",
       "Kudos         -549.0\n",
       "Comments    -11539.0\n",
       "Bookmarks    -9191.0\n",
       "Hits             0.0\n",
       "Tags               0\n",
       "dtype: object"
      ]
     },
     "metadata": {},
     "output_type": "display_data"
    },
    {
     "name": "stdout",
     "output_type": "stream",
     "text": [
      "34819\n"
     ]
    },
    {
     "data": {
      "text/plain": [
       "Title             0\n",
       "Author            0\n",
       "Kudos        -295.0\n",
       "Comments    -9052.0\n",
       "Bookmarks   -6352.0\n",
       "Hits            0.0\n",
       "Tags              0\n",
       "dtype: object"
      ]
     },
     "metadata": {},
     "output_type": "display_data"
    },
    {
     "name": "stdout",
     "output_type": "stream",
     "text": [
      "35925\n"
     ]
    },
    {
     "data": {
      "text/plain": [
       "Title             0\n",
       "Author            0\n",
       "Kudos        -429.0\n",
       "Comments    -8165.0\n",
       "Bookmarks   -7322.0\n",
       "Hits            0.0\n",
       "Tags              0\n",
       "dtype: object"
      ]
     },
     "metadata": {},
     "output_type": "display_data"
    },
    {
     "name": "stdout",
     "output_type": "stream",
     "text": [
      "33378\n"
     ]
    },
    {
     "data": {
      "text/plain": [
       "Title              0\n",
       "Author             0\n",
       "Kudos         -937.0\n",
       "Comments    -14353.0\n",
       "Bookmarks   -12268.0\n",
       "Hits             0.0\n",
       "Tags               0\n",
       "dtype: object"
      ]
     },
     "metadata": {},
     "output_type": "display_data"
    },
    {
     "name": "stdout",
     "output_type": "stream",
     "text": [
      "30086\n"
     ]
    },
    {
     "data": {
      "text/plain": [
       "Title             0\n",
       "Author            0\n",
       "Kudos        -413.0\n",
       "Comments    -9063.0\n",
       "Bookmarks   -7107.0\n",
       "Hits            0.0\n",
       "Tags              0\n",
       "dtype: object"
      ]
     },
     "metadata": {},
     "output_type": "display_data"
    },
    {
     "name": "stdout",
     "output_type": "stream",
     "text": [
      "59399\n"
     ]
    },
    {
     "data": {
      "text/plain": [
       "Title              0\n",
       "Author             0\n",
       "Kudos        -1020.0\n",
       "Comments    -15228.0\n",
       "Bookmarks   -11816.0\n",
       "Hits             0.0\n",
       "Tags               0\n",
       "dtype: object"
      ]
     },
     "metadata": {},
     "output_type": "display_data"
    },
    {
     "name": "stdout",
     "output_type": "stream",
     "text": [
      "29886\n"
     ]
    },
    {
     "data": {
      "text/plain": [
       "Title             0\n",
       "Author            0\n",
       "Kudos        -289.0\n",
       "Comments    -7576.0\n",
       "Bookmarks   -5411.0\n",
       "Hits            0.0\n",
       "Tags              0\n",
       "dtype: object"
      ]
     },
     "metadata": {},
     "output_type": "display_data"
    },
    {
     "name": "stdout",
     "output_type": "stream",
     "text": [
      "30745\n"
     ]
    },
    {
     "data": {
      "text/plain": [
       "Title              0\n",
       "Author             0\n",
       "Kudos        -1420.0\n",
       "Comments    -10438.0\n",
       "Bookmarks    -9458.0\n",
       "Hits             0.0\n",
       "Tags               0\n",
       "dtype: object"
      ]
     },
     "metadata": {},
     "output_type": "display_data"
    }
   ],
   "source": [
    "for fandom_df in fandom_dfs:\n",
    "    print(len(fandom_df))\n",
    "    display(fandom_df[fandom_df == -1].sum(axis = 0))\n",
    "    "
   ]
  },
  {
   "cell_type": "code",
   "execution_count": 13,
   "id": "62b4c077",
   "metadata": {},
   "outputs": [],
   "source": [
    "filtered_dfs = []\n",
    "for fandom_df in fandom_dfs:\n",
    "    filtered_df = fandom_df.copy()\n",
    "    filtered_df.loc[fandom_df['Kudos'] == -1,'Kudos'] = 0\n",
    "    filtered_df.loc[fandom_df['Comments'] == -1,'Comments'] = 0\n",
    "    filtered_df.loc[fandom_df['Bookmarks'] == -1,'Bookmarks'] = 0\n",
    "    filtered_df.loc[fandom_df['Hits'] == -1,'Hits'] = 0\n",
    "    filtered_dfs.append(filtered_df)"
   ]
  },
  {
   "cell_type": "code",
   "execution_count": 14,
   "id": "c4abba4e",
   "metadata": {
    "scrolled": true
   },
   "outputs": [
    {
     "name": "stdout",
     "output_type": "stream",
     "text": [
      "99980\n",
      "100000\n",
      "42334\n",
      "34819\n",
      "35925\n",
      "33378\n",
      "30086\n",
      "59399\n",
      "29886\n",
      "30745\n"
     ]
    }
   ],
   "source": [
    "for filtered_df in filtered_dfs:\n",
    "    print(len(filtered_df))"
   ]
  },
  {
   "cell_type": "markdown",
   "id": "153785c6",
   "metadata": {},
   "source": [
    "## Tag Filtering\n",
    "\n",
    "Tag filtering is composed of the following parts:\n",
    "1. Calculate number of occurences for each tag\n",
    "2. Calculate spread of each tag over all fandoms\n",
    "3. Remove tags that do not meet thresholds\n",
    "4. Remove data without any tags\n",
    "\n",
    "Additionally, data regarding tag metrics will be collected, but not used in the filtering process."
   ]
  },
  {
   "cell_type": "code",
   "execution_count": 15,
   "id": "ff81ef8b",
   "metadata": {},
   "outputs": [],
   "source": [
    "min_occurences = 100\n",
    "min_fandom_occurences = 2\n",
    "min_perc_thresh = 0.5"
   ]
  },
  {
   "cell_type": "code",
   "execution_count": 16,
   "id": "6558c0d6",
   "metadata": {
    "scrolled": false
   },
   "outputs": [],
   "source": [
    "# Each stat is an array of 11 numbers\n",
    "# 0-9 for each fandom, 10 represents the total\n",
    "# Stats: [name, count, kudos, comments, bookmarks, hits]\n",
    "tag_stats_dict = {}\n",
    "count_ind = 1\n",
    "kudo_ind = 12\n",
    "comment_ind = 23\n",
    "bookmark_ind = 34\n",
    "hit_ind = 45\n",
    "\n",
    "for i in range(len(filtered_dfs)):\n",
    "    df = filtered_dfs[i]\n",
    "    for j in range(df.shape[0]):\n",
    "        work = df.iloc[j]\n",
    "        for tag in work.Tags:\n",
    "            if tag not in tag_stats_dict:\n",
    "                tag_stats_dict[tag] = [0] \n",
    "                for _ in range(5):\n",
    "                    tag_stats_dict[tag].append([0 for x in range(len(filtered_dfs))])\n",
    "                    tag_stats_dict[tag].append(0)\n",
    "                tag_stats_dict[tag][0] = tag\n",
    "\n",
    "            tag_stats_dict[tag][1][i] += 1\n",
    "            tag_stats_dict[tag][2] += 1\n",
    "            tag_stats_dict[tag][3][i] += work.Kudos\n",
    "            tag_stats_dict[tag][4] += work.Kudos\n",
    "            tag_stats_dict[tag][5][i] += work.Comments\n",
    "            tag_stats_dict[tag][6] += work.Comments\n",
    "            tag_stats_dict[tag][7][i] += work.Bookmarks\n",
    "            tag_stats_dict[tag][8] += work.Bookmarks\n",
    "            tag_stats_dict[tag][9][i] += work.Hits\n",
    "            tag_stats_dict[tag][10] += work.Hits\n",
    "\n",
    "            \n",
    "    \n",
    "#     tags_per_fandom.append(tags)\n",
    "#     print(len(tags))"
   ]
  },
  {
   "cell_type": "code",
   "execution_count": 17,
   "id": "9c77f239",
   "metadata": {
    "scrolled": true
   },
   "outputs": [],
   "source": [
    "def fandom_appearances(counts):\n",
    "    total_counts = 0\n",
    "    for count in counts:\n",
    "        total_counts += count\n",
    "        \n",
    "    total = 0\n",
    "    for i in range(len(counts)):\n",
    "        threshold = total_counts * fandom_sizes_norm[i] * min_perc_thresh\n",
    "        if counts[i] > threshold:\n",
    "            total += 1\n",
    "    return total     \n",
    "\n",
    "tag_stats = list(tag_stats_dict.values())\n",
    "filtered_tags_df = pd.DataFrame(tag_stats, columns = ['Name', 'Count', 'Total Count', 'Kudos', 'Total Kudos', 'Comments', 'Total Comments', 'Bookmarks', 'Total Bookmarks', 'Hits', 'Total Hits'])\n",
    "    \n",
    "filtered_tags_df['Spread'] = filtered_tags_df['Count'].apply(fandom_appearances)\n",
    "# filtered_tags_df"
   ]
  },
  {
   "cell_type": "code",
   "execution_count": 18,
   "id": "0ba7af54",
   "metadata": {
    "scrolled": true
   },
   "outputs": [
    {
     "name": "stdout",
     "output_type": "stream",
     "text": [
      "4944\n"
     ]
    }
   ],
   "source": [
    "filtered_tags_df = filtered_tags_df[filtered_tags_df['Spread'] >= 5]\n",
    "print(len(filtered_tags_df))\n",
    "filtered_tags_df = filtered_tags_df[filtered_tags_df['Total Count'] > 500]\n",
    "# print(len(filtered_tags_df))\n",
    "# view = filtered_tags_df[filtered_tags_df['Spread'] == 4]\n",
    "# display(len(view))\n",
    "# for name in filtered_tags_df['Name'].values:\n",
    "#     print(name)"
   ]
  },
  {
   "cell_type": "code",
   "execution_count": 19,
   "id": "f85ffcbf",
   "metadata": {},
   "outputs": [
    {
     "name": "stdout",
     "output_type": "stream",
     "text": [
      "625\n",
      "38\n",
      "587\n"
     ]
    }
   ],
   "source": [
    "tagnames_unfiltered = ['Alternate Universe - Canon Divergence', 'Queerplatonic Relationships', 'Panic Attacks', 'Trauma', 'Body Horror', 'Character Death', 'Temporary Character Death', 'Implied/Referenced Child Abuse', 'Misunderstandings', 'Bullying', 'Angst with a Happy Ending', 'Love Confessions', 'Emotional Hurt/Comfort', 'Mutual Pining', 'Spoilers', 'Emotional Manipulation', 'Betrayal', 'Suicidal Thoughts', 'Self-Hatred', 'Angst', 'Slow Burn', 'Eventual Romance', 'Murder', 'Human Experimentation', 'Secrets', 'Secret Identity', 'Crack Treated Seriously', 'My First AO3 Post', 'Fluff', 'Implied/Referenced Suicide', 'Crack', 'Fluff and Humor', 'Fluff and Angst', 'Emotional Hurt', 'It Gets Worse Before It Gets Better', 'Dissociation', 'Families of Choice', 'Past Child Abuse', 'Hurt/Comfort', 'Canon-Typical Violence', 'Whump', 'Ghosts', 'Mythical Beings & Creatures', 'Language', 'Anxiety Attacks', 'Nightmares', 'Cuddling & Snuggling', 'Kissing', 'First Kiss', 'Pining', 'Friends to Lovers', 'Recovery', 'Alternate Universe - Soulmates', 'Child Abuse', 'Self-Harm', 'Humor', 'Friendship', 'Enemies to Friends to Lovers', 'Blood and Injury', 'Post-Traumatic Stress Disorder - PTSD', 'Character Development', 'Developing Relationship', 'Therapy', 'Sharing a Bed', 'Miscommunication', 'Near Death Experiences', 'Character Study', 'Soulmate-Identifying Marks', 'Author Is Sleep Deprived', 'Time Loop', 'Domestic Fluff', 'Established Relationship', 'Phone Calls & Telephones', 'Family Fluff', 'Mystery', 'Self-Esteem Issues', 'Mental Health Issues', 'Implied/Referenced Alcohol Abuse/Alcoholism', 'Unreliable Narrator', 'Swearing', 'Minor Violence', 'Comedy', 'Drabble Collection', 'Anxiety', 'Torture', 'Violence', 'Bodyswap', 'One Shot Collection', 'Feelings', 'Family', 'Social Anxiety', 'Not Beta Read', 'Fake/Pretend Relationship', 'Literal Sleeping Together', 'Physical Abuse', 'Underage Drinking', 'Minor Original Character(s)', 'Manipulation', 'Pain', 'References to Depression', 'Light Angst', 'Minor Character Death', \"I'm Sorry\", 'POV Outsider', 'Happy Ending', 'Fluff and Hurt/Comfort', 'Short', 'Drabble', 'High School', 'Trust Issues', 'Childhood Trauma', 'Age Regression/De-Aging', 'Platonic Relationships', 'Secret Santa', 'Angst and Hurt/Comfort', 'Implied/Referenced Self-Harm', \"This Is Why We Can't Have Nice Things\", 'Alternate Universe', 'Pranks and Practical Jokes', 'Fluff and Crack', 'Why Did I Write This?', 'Unresolved Sexual Tension', 'Canon Universe', 'Cats', 'Bonding', 'Movie Night', 'Sleepovers', 'Fanart', 'Texting', 'Chatting & Messaging', 'Injury Recovery', 'Major Character Injury', 'Unhealthy Relationships', 'Gay Panic', 'Roommates', 'Running Away', 'Other Additional Tags to Be Added', 'Rating May Change', 'Stalking', \"Additional Warnings In Author's Note\", 'Alternate Universe - Royalty', 'Alternate Universe - Fantasy', 'Angst and Humor', 'Day At The Beach', 'How Do I Tag', 'Action/Adventure', 'Insecurity', 'Insomnia', 'Fix-It of Sorts', 'Mild Language', 'I Wrote This Instead of Sleeping', 'The Author Regrets Everything', 'Implied/Referenced Character Death', 'Hopeful Ending', 'Not Canon Compliant', 'Homophobia', 'Coming Out', 'LGBTQ Themes', 'Cross-Posted on Tumblr', 'Tags May Change', 'Mild Gore', 'Bittersweet Ending', 'Original Character(s)', 'Canon Compliant', 'Romantic Comedy', 'Post-Canon', 'Confessions', 'Some Humor', 'Holding Hands', 'Mild Blood', 'Worldbuilding', 'Pre-Canon', 'Marriage', \"I Don't Even Know\", 'Slow Build', 'Suicide', 'Depression', 'No Spoilers', 'Crushes', 'Redemption', 'Polyamory', 'Kidnapping', 'Injury', 'Hurt', 'Crying', 'Alternate Universe - Time Travel', 'Suicide Attempt', 'Grief/Mourning', 'Idiots in Love', 'Adoption', 'Emotional/Psychological Abuse', 'Child Neglect', 'Eventual Happy Ending', 'Hijinks & Shenanigans', 'Alternate Universe - No Powers', 'Alternate Universe - College/University', 'Trans Male Character', 'Alternate Universe - Coffee Shops & Cafés', 'Mild Hurt/Comfort', 'Attempt at Humor', 'Secret Relationship', 'Ambiguous/Open Ending', 'One Shot', 'Pre-Relationship', 'Cute', 'Implied/Referenced Homophobia', 'Nonbinary Character', 'Slow Dancing', 'Feelings Realization', 'Male-Female Friendship', 'Scars', 'Hanahaki Disease', 'Unrequited Love', 'Team as Family', 'Tooth-Rotting Fluff', 'Emotional Baggage', 'Family Issues', 'Birthday', 'Triggers', 'The Author Regrets Nothing', 'Platonic Soulmates', 'Minor Injuries', 'Platonic Cuddling', 'Family Feels', 'Tags Contain Spoilers', 'Angst and Feels', 'Light-Hearted', 'POV Alternating', 'POV Third Person', 'Background Relationships', 'Amnesia', 'Alternate Universe - Harry Potter Setting', 'Romance', 'Drama', 'Implied/Referenced Torture', 'Memory Loss', 'Reunions', 'Childhood Friends', 'Ficlet', 'Touch-Starved', 'Past Abuse', 'My First Fanfic', 'Feels', 'Heavy Angst', 'Romantic Soulmates', 'Oblivious', 'Blushing', 'Caretaking', 'Introspection', 'Non-Sexual Intimacy', 'Everyone Needs A Hug', 'Halloween', 'Guilt', 'Training', 'Action', 'Death', 'Hurt No Comfort', 'Unhappy Ending', 'Sad', 'Boys In Love', 'Implied/Referenced Abuse', 'What Have I Done', 'Sorry Not Sorry', 'Blood and Violence', 'Psychological Trauma', 'Survivor Guilt', 'Slow Romance', 'Sick Character', 'Self-Doubt', 'POV Multiple', 'Implied Relationships', 'Complete', 'Enemies to Friends', 'Best Friends', 'Kid Fic', \"I'm Bad At Tagging\", 'Ambiguous Relationships', 'Non-Graphic Violence', 'Out of Character', 'Hospitals', 'Bad Parenting', 'Revenge', 'Anger', 'Pre-Slash', 'Developing Friendships', 'Drama & Romance', 'Baking', 'Romantic Fluff', 'Blood and Gore', 'Alternate Universe - Roommates/Housemates', 'Domestic', 'Everyone Is Gay', 'Long-Distance Relationship', 'Implied Sexual Content', 'Making Out', 'Comfort', 'Dorks in Love', 'Slice of Life', 'Alternate Universe - Future', 'Arranged Marriage', 'Hospitalization', 'Canon Rewrite', 'Genderbending', 'Dreams', 'Father-Son Relationship', 'Family Bonding', 'Tags Are Hard', 'Rain', 'Drowning', 'Jealousy', 'Self-Worth Issues', 'Hallucinations', 'Angst and Tragedy', 'Blood', 'Перевод на русский | Translation in Russian', 'Fear', 'Reader-Insert', 'Love Triangles', 'Teen Romance', 'Vampires', 'Chaos', 'Slow To Update', 'Soulmates', 'What-If', 'Parenthood', 'Christmas', 'No Angst', 'Smut', 'Fix-It', 'Help', 'Summer', 'Self-Indulgent', 'Regret', 'Healing', 'Self-Discovery', 'Alternate Universe - Canon', 'Flashbacks', 'Sibling Bonding', 'Abuse', 'Awkward Conversations', 'Couch Cuddles', 'Unhealthy Coping Mechanisms', 'True Love', 'Alternate Universe - Gods & Goddesses', 'Coffee Shops', 'No Romance', 'Trans Female Character', 'Explicit Language', 'Married Life', 'Mental Breakdown', 'Alternate Universe - Flower Shop', 'Language of Flowers', 'Protectiveness', 'Self-Insert', 'Cooking', 'Canon Related', 'Marriage Proposal', 'Emotional', 'Gender Dysphoria', 'Apologies', 'Late Night Conversations', 'Coffee', 'Red String of Fate', 'Gift Fic', 'Headcanon', 'Mpreg', 'Sharing Clothes', 'Falling In Love', 'First Dates', 'Omega Verse', 'Alpha/Beta/Omega Dynamics', 'Alpha/Omega', 'Non-Traditional Alpha/Beta/Omega Dynamics', 'Flirting', 'Teasing', 'Banter', 'Alcohol', 'Sexual Tension', 'Fights', 'Bickering', 'Fantasy', 'Dancing', 'Weddings', 'Drinking', 'Awkward Romance', 'Alcohol Abuse/Alcoholism', 'Music', 'Dark', 'Alternate Universe - Childhood Friends', \"Valentine's Day\", 'Eventual Fluff', 'Forbidden Love', 'Sickfic', 'Implied/Referenced Rape/Non-con', 'Dysfunctional Family', 'Love at First Sight', 'Boys Kissing', 'Alternate Universe - High School', 'Strangers to Lovers', 'Asexual Character', 'Tumblr Prompt', 'Fluff without Plot', 'Forehead Kisses', 'Merpeople', 'Married Couple', 'Possessive Behavior', 'Eventual Smut', 'Age Difference', 'Alternate Universe - Magic', 'Sad Ending', 'Hugs', 'Implied/Referenced Drug Use', 'Dreams and Nightmares', 'First Meetings', 'First Time', 'Dogs', 'Alternate Universe - Different First Meeting', 'Healthy Relationships', 'Dialogue Heavy', \"I Can't Believe I Wrote This\", 'Post-Break Up', 'Reincarnation', 'I Tried', 'Canonical Character Death', 'Self Confidence Issues', 'Unresolved Romantic Tension', 'Childhood Memories', 'Comfort/Angst', 'Mental Instability', 'Smoking', 'Original Character Death(s)', 'Drug Use', 'Short One Shot', 'Family Drama', 'Christmas Fluff', 'Holidays', 'Mistletoe', 'Tragedy', 'Declarations Of Love', 'Denial of Feelings', 'Implied/Referenced Sex', 'Letters', 'POV First Person', 'Vomiting', 'Truth or Dare', 'Domestic Bliss', 'Mild Sexual Content', 'Brotherly Love', 'Sad with a Happy Ending', 'Love', 'Warm and Fuzzy Feelings', 'Sleepy Cuddles', 'Cute Ending', 'Fluffy Ending', 'Alternate Universe - Hogwarts', 'Alternate Universe - Reincarnation', 'No Plot/Plotless', 'Sweet', 'Other Ships Not Mentioned in Tags', 'Beaches', 'Recreational Drug Use', 'Ice Skating', 'Funny', 'Childhood', 'Cross-Posted on Wattpad', 'Gay', 'Happy', 'Tattoos', \"I'm Bad At Summaries\", 'This Is STUPID', 'No Sex', 'No Smut', 'Trans Character', 'Singing', 'Cute Kids', 'Song Lyrics', 'Fluff and Smut', 'Siblings', 'Abandoned Work - Unfinished and Discontinued', 'My First Work in This Fandom', 'Alternate Universe - Gender Changes', 'Alternate Canon', 'Dating', 'Awkward Flirting', 'Transphobia', 'Gender-Neutral Pronouns', 'Time Skips', 'Family Dynamics', 'Cheating', 'Cross-Posted on FanFiction.Net', 'Conversations', 'Rivalry', 'Pregnancy', 'Awkwardness', 'Alternate Universe - Supernatural Elements', 'Tickling', 'Eventual Relationships', 'Politics', 'Coming of Age', 'Growing Up', 'Complicated Relationships', 'Internalized Homophobia', 'Lowercase', 'Eating Disorders', 'Not Actually Unrequited Love', 'Parody', 'Alternate Universe - Vampire', 'Heartbreak', 'Illnesses', 'Bittersweet', 'Demons', 'Bad Flirting', 'Embarrassment', 'Sexual Humor', 'Teacher-Student Relationship', 'Prompt Fic', 'Gore', 'Road Trips', 'Supernatural Elements', 'Getting to Know Each Other', 'Drunkenness', 'Food', 'Backstory', 'Friendship/Love', 'Everybody Lives', 'Love Letters', 'Unrequited Crush', 'Arguing', 'Unplanned Pregnancy', 'Past Character Death', 'Sex', 'Gift Giving', 'Boyfriends', 'Enemies to Lovers', 'Past Relationship(s)', 'Non-Sexual Age Play', 'Lesbian Character', 'Birthday Fluff', 'Birthday Presents', 'I Made Myself Cry', 'Inspired by Music', 'War', 'Comfort No Hurt', 'Non-Linear Narrative', 'Horror', 'Snow', 'Yandere', 'Magic', 'Men Crying', 'I Will Go Down With This Ship', 'Alternate Universe - Everyone Lives/Nobody Dies', 'Alternate Universe - Modern with Magic', 'Secret Crush', 'Bathing/Washing', 'Moving On', 'Break Up', 'Party', 'Lazy Mornings', 'Awkward Crush', 'Memories', 'Art', 'Angst and Romance', 'Implied/Referenced Cheating', 'Short & Sweet', 'Songfic', 'Winter', 'Rare Pairings', 'Friends With Benefits', 'POV Second Person', 'Drunken Confessions', 'Teenagers', 'Relationship Study', 'Pet Names', 'Loneliness', \"Valentine's Day Fluff\", 'Manga & Anime', 'Love/Hate', 'Loss', 'One-Sided Attraction', 'Silly', 'Prompt Fill', 'Crossdressing', 'Digital Art', 'Work In Progress', 'Fever', 'Meet-Cute', 'Stargazing', 'First Love', 'Gentle Kissing', 'Anal Sex', 'Sleeping Together', 'Suggestive Themes', 'Blow Jobs', 'Babies', 'Children', 'Alternate Universe - Merpeople', 'Random & Short', 'Fanfiction', 'No Dialogue', \"Boys' Love\", 'Yaoi', 'Talking', 'Engagement', 'During Canon', 'Flowers', 'Morning Cuddles', 'Oral Sex', 'Missing Scene', 'One-Sided Relationship', 'Adventure', 'Alternate Universe - Medieval', 'Car Accidents', 'Reminiscing', 'Podfic', 'Alternate Universe - Superheroes/Superpowers', \"New Year's Eve\", 'Relationship(s)', 'Plot What Plot/Porn Without Plot', 'Father-Daughter Relationship', 'Poetry', 'Originally Posted on Tumblr', 'Modern Era', 'Afterlife', 'Alternate Universe - Historical', 'Español | Spanish']\n",
    "tagnames_ignore = ['Abandoned Work - Unfinished and Discontinued', 'Cross-Posted on FanFiction.Net', 'I Tried', 'The Author Regrets Everything', 'I Wrote This Instead of Sleeping', 'Originally Posted on Tumblr', 'Sorry Not Sorry', 'Manga & Anime', 'Other Additional Tags to Be Added', 'Lowercase', 'Cross-Posted on Wattpad', 'My First AO3 Post', 'Tags Contain Spoilers', \"I Can't Believe I Wrote This\", 'Español | Spanish', \"This Is Why We Can't Have Nice Things\", 'What Have I Done', 'Not Beta Read', 'Fanfiction', 'Why Did I Write This?', \"Additional Warnings In Author's Note\", 'Перевод на русский | Translation in Russian', 'Cross-Posted on Tumblr', 'The Author Regrets Nothing', \"I'm Bad At Summaries\", 'My First Work in This Fandom', 'Slow To Update', 'This Is STUPID', 'Author Is Sleep Deprived', 'Tags May Change', 'How Do I Tag', 'I Will Go Down With This Ship', 'Other Ships Not Mentioned in Tags', 'Work In Progress', 'My First Fanfic', \"I'm Bad At Tagging\", \"I'm Sorry\", \"I Don't Even Know\"]\n",
    "tagnames_unfiltered = set(tagnames_unfiltered)\n",
    "tagnames_ignore = set(tagnames_ignore)\n",
    "tagnames_keep = tagnames_unfiltered - tagnames_ignore\n",
    "\n",
    "print(len(tagnames_unfiltered))\n",
    "print(len(tagnames_ignore))\n",
    "print(len(tagnames_keep))"
   ]
  },
  {
   "cell_type": "code",
   "execution_count": 20,
   "id": "5e8b6981",
   "metadata": {},
   "outputs": [
    {
     "name": "stdout",
     "output_type": "stream",
     "text": [
      "99980\n",
      "100000\n",
      "42334\n",
      "34819\n",
      "35925\n",
      "33378\n",
      "30086\n",
      "59399\n",
      "29886\n",
      "30745\n"
     ]
    }
   ],
   "source": [
    "# display(fandom_dfs[0].head(25))\n",
    "def find_filtered_tags(tags):\n",
    "    filtered_tags = []\n",
    "    for tag in tags:\n",
    "        if tag in tagnames_keep:\n",
    "            filtered_tags.append(tag)\n",
    "            \n",
    "    return filtered_tags\n",
    "\n",
    "for filtered_df in filtered_dfs:\n",
    "    filtered_df['Tags'] = filtered_df['Tags'].apply(find_filtered_tags)\n",
    "    print(len(filtered_df))\n",
    "    \n",
    "# filtered_dfs[0].head(25)"
   ]
  },
  {
   "cell_type": "code",
   "execution_count": 21,
   "id": "6cf6cf7b",
   "metadata": {},
   "outputs": [
    {
     "data": {
      "text/plain": [
       "87226"
      ]
     },
     "metadata": {},
     "output_type": "display_data"
    },
    {
     "data": {
      "text/plain": [
       "85702"
      ]
     },
     "metadata": {},
     "output_type": "display_data"
    },
    {
     "data": {
      "text/plain": [
       "33564"
      ]
     },
     "metadata": {},
     "output_type": "display_data"
    },
    {
     "data": {
      "text/plain": [
       "28875"
      ]
     },
     "metadata": {},
     "output_type": "display_data"
    },
    {
     "data": {
      "text/plain": [
       "29408"
      ]
     },
     "metadata": {},
     "output_type": "display_data"
    },
    {
     "data": {
      "text/plain": [
       "21489"
      ]
     },
     "metadata": {},
     "output_type": "display_data"
    },
    {
     "data": {
      "text/plain": [
       "21862"
      ]
     },
     "metadata": {},
     "output_type": "display_data"
    },
    {
     "data": {
      "text/plain": [
       "44420"
      ]
     },
     "metadata": {},
     "output_type": "display_data"
    },
    {
     "data": {
      "text/plain": [
       "22973"
      ]
     },
     "metadata": {},
     "output_type": "display_data"
    },
    {
     "data": {
      "text/plain": [
       "22667"
      ]
     },
     "metadata": {},
     "output_type": "display_data"
    }
   ],
   "source": [
    "sum = 0\n",
    "for filtered_df in filtered_dfs:\n",
    "    display(len(filtered_df[filtered_df['Tags'].apply(lambda x: len(x)) != 0]))"
   ]
  },
  {
   "cell_type": "code",
   "execution_count": 55,
   "id": "db47ccc1",
   "metadata": {
    "scrolled": true
   },
   "outputs": [
    {
     "data": {
      "text/html": [
       "<div>\n",
       "<style scoped>\n",
       "    .dataframe tbody tr th:only-of-type {\n",
       "        vertical-align: middle;\n",
       "    }\n",
       "\n",
       "    .dataframe tbody tr th {\n",
       "        vertical-align: top;\n",
       "    }\n",
       "\n",
       "    .dataframe thead th {\n",
       "        text-align: right;\n",
       "    }\n",
       "</style>\n",
       "<table border=\"1\" class=\"dataframe\">\n",
       "  <thead>\n",
       "    <tr style=\"text-align: right;\">\n",
       "      <th></th>\n",
       "      <th>Name</th>\n",
       "      <th>Count</th>\n",
       "      <th>Total Count</th>\n",
       "      <th>Kudos</th>\n",
       "      <th>Total Kudos</th>\n",
       "      <th>Comments</th>\n",
       "      <th>Total Comments</th>\n",
       "      <th>Bookmarks</th>\n",
       "      <th>Total Bookmarks</th>\n",
       "      <th>Hits</th>\n",
       "      <th>Total Hits</th>\n",
       "      <th>Spread</th>\n",
       "    </tr>\n",
       "  </thead>\n",
       "  <tbody>\n",
       "    <tr>\n",
       "      <th>0</th>\n",
       "      <td>Alternate Universe - Canon Divergence</td>\n",
       "      <td>[6648, 2456, 1711, 1654, 1868, 92, 1443, 6009,...</td>\n",
       "      <td>25108</td>\n",
       "      <td>[5559155, 463251, 219324, 310376, 255720, 3586...</td>\n",
       "      <td>10089060</td>\n",
       "      <td>[914535, 52440, 29493, 28309, 56320, 643, 3023...</td>\n",
       "      <td>1533514</td>\n",
       "      <td>[1112736, 68015, 36562, 42074, 27675, 329, 224...</td>\n",
       "      <td>1955635</td>\n",
       "      <td>[93309455, 5188600, 3563130, 3683255, 4581961,...</td>\n",
       "      <td>159410364</td>\n",
       "      <td>8</td>\n",
       "    </tr>\n",
       "    <tr>\n",
       "      <th>1</th>\n",
       "      <td>Queerplatonic Relationships</td>\n",
       "      <td>[244, 145, 20, 31, 22, 11, 17, 44, 31, 26]</td>\n",
       "      <td>591</td>\n",
       "      <td>[297073, 40537, 4878, 4151, 1619, 720, 1268, 9...</td>\n",
       "      <td>367018</td>\n",
       "      <td>[60525, 4841, 412, 244, 296, 147, 427, 1277, 5...</td>\n",
       "      <td>69042</td>\n",
       "      <td>[60704, 8248, 629, 358, 173, 93, 147, 2353, 97...</td>\n",
       "      <td>73788</td>\n",
       "      <td>[6712677, 579104, 45992, 50222, 25002, 14471, ...</td>\n",
       "      <td>7685592</td>\n",
       "      <td>7</td>\n",
       "    </tr>\n",
       "    <tr>\n",
       "      <th>2</th>\n",
       "      <td>Panic Attacks</td>\n",
       "      <td>[2444, 949, 207, 362, 471, 80, 183, 229, 198, ...</td>\n",
       "      <td>5431</td>\n",
       "      <td>[1984564, 242119, 27577, 103773, 72296, 4718, ...</td>\n",
       "      <td>2695071</td>\n",
       "      <td>[258095, 28228, 3934, 9239, 9883, 1511, 3373, ...</td>\n",
       "      <td>363322</td>\n",
       "      <td>[353364, 31094, 3792, 12676, 6540, 528, 3552, ...</td>\n",
       "      <td>457443</td>\n",
       "      <td>[31828241, 3477553, 492070, 1418068, 1030152, ...</td>\n",
       "      <td>43112972</td>\n",
       "      <td>7</td>\n",
       "    </tr>\n",
       "    <tr>\n",
       "      <th>3</th>\n",
       "      <td>Trauma</td>\n",
       "      <td>[724, 142, 174, 168, 315, 64, 174, 261, 149, 235]</td>\n",
       "      <td>2406</td>\n",
       "      <td>[534367, 22481, 14578, 27883, 40912, 3067, 220...</td>\n",
       "      <td>797465</td>\n",
       "      <td>[82437, 5050, 3259, 2906, 6677, 785, 3935, 118...</td>\n",
       "      <td>128491</td>\n",
       "      <td>[102992, 2872, 1956, 3593, 4478, 310, 2454, 15...</td>\n",
       "      <td>145063</td>\n",
       "      <td>[9183057, 377023, 278573, 389931, 610082, 5032...</td>\n",
       "      <td>13290588</td>\n",
       "      <td>8</td>\n",
       "    </tr>\n",
       "    <tr>\n",
       "      <th>4</th>\n",
       "      <td>Body Horror</td>\n",
       "      <td>[300, 47, 43, 50, 58, 36, 111, 81, 53, 131]</td>\n",
       "      <td>910</td>\n",
       "      <td>[276657, 5433, 2634, 5469, 7280, 1725, 11310, ...</td>\n",
       "      <td>374585</td>\n",
       "      <td>[66173, 858, 404, 561, 2875, 295, 4131, 8336, ...</td>\n",
       "      <td>88666</td>\n",
       "      <td>[59479, 814, 453, 650, 805, 222, 1486, 11406, ...</td>\n",
       "      <td>79009</td>\n",
       "      <td>[5888778, 70819, 48484, 56024, 197493, 28785, ...</td>\n",
       "      <td>7678087</td>\n",
       "      <td>9</td>\n",
       "    </tr>\n",
       "    <tr>\n",
       "      <th>5</th>\n",
       "      <td>Character Death</td>\n",
       "      <td>[1445, 1188, 992, 774, 735, 394, 394, 830, 328...</td>\n",
       "      <td>7381</td>\n",
       "      <td>[779938, 84208, 63085, 63999, 58610, 12614, 24...</td>\n",
       "      <td>1257107</td>\n",
       "      <td>[145822, 12140, 9567, 5717, 9388, 1980, 3678, ...</td>\n",
       "      <td>218528</td>\n",
       "      <td>[148687, 10350, 7667, 6396, 5304, 1118, 2465, ...</td>\n",
       "      <td>212804</td>\n",
       "      <td>[15451000, 1451736, 1293342, 842496, 974795, 2...</td>\n",
       "      <td>23726169</td>\n",
       "      <td>10</td>\n",
       "    </tr>\n",
       "    <tr>\n",
       "      <th>6</th>\n",
       "      <td>Temporary Character Death</td>\n",
       "      <td>[380, 101, 32, 70, 52, 77, 64, 92, 76, 67]</td>\n",
       "      <td>1011</td>\n",
       "      <td>[352307, 11810, 2960, 10828, 7953, 4075, 7928,...</td>\n",
       "      <td>462929</td>\n",
       "      <td>[63073, 1828, 316, 1595, 1318, 675, 1993, 3383...</td>\n",
       "      <td>82783</td>\n",
       "      <td>[75075, 1986, 411, 1307, 1027, 468, 964, 4715,...</td>\n",
       "      <td>94659</td>\n",
       "      <td>[7189473, 153217, 43043, 128544, 108170, 54837...</td>\n",
       "      <td>8775957</td>\n",
       "      <td>8</td>\n",
       "    </tr>\n",
       "    <tr>\n",
       "      <th>7</th>\n",
       "      <td>Implied/Referenced Child Abuse</td>\n",
       "      <td>[4150, 383, 123, 624, 500, 81, 447, 356, 241, ...</td>\n",
       "      <td>7240</td>\n",
       "      <td>[3451576, 103734, 26287, 173447, 54439, 4933, ...</td>\n",
       "      <td>4179309</td>\n",
       "      <td>[389243, 17767, 4700, 15549, 8522, 1102, 11450...</td>\n",
       "      <td>493892</td>\n",
       "      <td>[590011, 14122, 5153, 25064, 4732, 555, 12876,...</td>\n",
       "      <td>707429</td>\n",
       "      <td>[49748855, 1656033, 412070, 2206076, 788399, 8...</td>\n",
       "      <td>59928122</td>\n",
       "      <td>6</td>\n",
       "    </tr>\n",
       "    <tr>\n",
       "      <th>8</th>\n",
       "      <td>Misunderstandings</td>\n",
       "      <td>[1444, 1047, 158, 188, 147, 131, 134, 329, 171...</td>\n",
       "      <td>3845</td>\n",
       "      <td>[1062036, 339306, 32735, 55483, 24457, 12203, ...</td>\n",
       "      <td>1753517</td>\n",
       "      <td>[93011, 24580, 4368, 3835, 3330, 1298, 3782, 1...</td>\n",
       "      <td>157452</td>\n",
       "      <td>[175775, 47666, 4708, 6854, 2246, 1268, 2755, ...</td>\n",
       "      <td>277054</td>\n",
       "      <td>[11795810, 3463378, 445489, 572128, 320399, 17...</td>\n",
       "      <td>19787538</td>\n",
       "      <td>8</td>\n",
       "    </tr>\n",
       "    <tr>\n",
       "      <th>9</th>\n",
       "      <td>Bullying</td>\n",
       "      <td>[2115, 581, 182, 48, 304, 100, 87, 146, 42, 136]</td>\n",
       "      <td>3741</td>\n",
       "      <td>[2238703, 183547, 25688, 9743, 41108, 6347, 10...</td>\n",
       "      <td>2563151</td>\n",
       "      <td>[222099, 17878, 3634, 1314, 7662, 978, 2342, 4...</td>\n",
       "      <td>264153</td>\n",
       "      <td>[406996, 24468, 3081, 955, 3508, 484, 959, 622...</td>\n",
       "      <td>448688</td>\n",
       "      <td>[29573293, 2373268, 461169, 150665, 655532, 10...</td>\n",
       "      <td>34247745</td>\n",
       "      <td>5</td>\n",
       "    </tr>\n",
       "  </tbody>\n",
       "</table>\n",
       "</div>"
      ],
      "text/plain": [
       "                                    Name  \\\n",
       "0  Alternate Universe - Canon Divergence   \n",
       "1            Queerplatonic Relationships   \n",
       "2                          Panic Attacks   \n",
       "3                                 Trauma   \n",
       "4                            Body Horror   \n",
       "5                        Character Death   \n",
       "6              Temporary Character Death   \n",
       "7         Implied/Referenced Child Abuse   \n",
       "8                      Misunderstandings   \n",
       "9                               Bullying   \n",
       "\n",
       "                                               Count  Total Count  \\\n",
       "0  [6648, 2456, 1711, 1654, 1868, 92, 1443, 6009,...        25108   \n",
       "1         [244, 145, 20, 31, 22, 11, 17, 44, 31, 26]          591   \n",
       "2  [2444, 949, 207, 362, 471, 80, 183, 229, 198, ...         5431   \n",
       "3  [724, 142, 174, 168, 315, 64, 174, 261, 149, 235]         2406   \n",
       "4        [300, 47, 43, 50, 58, 36, 111, 81, 53, 131]          910   \n",
       "5  [1445, 1188, 992, 774, 735, 394, 394, 830, 328...         7381   \n",
       "6         [380, 101, 32, 70, 52, 77, 64, 92, 76, 67]         1011   \n",
       "7  [4150, 383, 123, 624, 500, 81, 447, 356, 241, ...         7240   \n",
       "8  [1444, 1047, 158, 188, 147, 131, 134, 329, 171...         3845   \n",
       "9   [2115, 581, 182, 48, 304, 100, 87, 146, 42, 136]         3741   \n",
       "\n",
       "                                               Kudos  Total Kudos  \\\n",
       "0  [5559155, 463251, 219324, 310376, 255720, 3586...     10089060   \n",
       "1  [297073, 40537, 4878, 4151, 1619, 720, 1268, 9...       367018   \n",
       "2  [1984564, 242119, 27577, 103773, 72296, 4718, ...      2695071   \n",
       "3  [534367, 22481, 14578, 27883, 40912, 3067, 220...       797465   \n",
       "4  [276657, 5433, 2634, 5469, 7280, 1725, 11310, ...       374585   \n",
       "5  [779938, 84208, 63085, 63999, 58610, 12614, 24...      1257107   \n",
       "6  [352307, 11810, 2960, 10828, 7953, 4075, 7928,...       462929   \n",
       "7  [3451576, 103734, 26287, 173447, 54439, 4933, ...      4179309   \n",
       "8  [1062036, 339306, 32735, 55483, 24457, 12203, ...      1753517   \n",
       "9  [2238703, 183547, 25688, 9743, 41108, 6347, 10...      2563151   \n",
       "\n",
       "                                            Comments  Total Comments  \\\n",
       "0  [914535, 52440, 29493, 28309, 56320, 643, 3023...         1533514   \n",
       "1  [60525, 4841, 412, 244, 296, 147, 427, 1277, 5...           69042   \n",
       "2  [258095, 28228, 3934, 9239, 9883, 1511, 3373, ...          363322   \n",
       "3  [82437, 5050, 3259, 2906, 6677, 785, 3935, 118...          128491   \n",
       "4  [66173, 858, 404, 561, 2875, 295, 4131, 8336, ...           88666   \n",
       "5  [145822, 12140, 9567, 5717, 9388, 1980, 3678, ...          218528   \n",
       "6  [63073, 1828, 316, 1595, 1318, 675, 1993, 3383...           82783   \n",
       "7  [389243, 17767, 4700, 15549, 8522, 1102, 11450...          493892   \n",
       "8  [93011, 24580, 4368, 3835, 3330, 1298, 3782, 1...          157452   \n",
       "9  [222099, 17878, 3634, 1314, 7662, 978, 2342, 4...          264153   \n",
       "\n",
       "                                           Bookmarks  Total Bookmarks  \\\n",
       "0  [1112736, 68015, 36562, 42074, 27675, 329, 224...          1955635   \n",
       "1  [60704, 8248, 629, 358, 173, 93, 147, 2353, 97...            73788   \n",
       "2  [353364, 31094, 3792, 12676, 6540, 528, 3552, ...           457443   \n",
       "3  [102992, 2872, 1956, 3593, 4478, 310, 2454, 15...           145063   \n",
       "4  [59479, 814, 453, 650, 805, 222, 1486, 11406, ...            79009   \n",
       "5  [148687, 10350, 7667, 6396, 5304, 1118, 2465, ...           212804   \n",
       "6  [75075, 1986, 411, 1307, 1027, 468, 964, 4715,...            94659   \n",
       "7  [590011, 14122, 5153, 25064, 4732, 555, 12876,...           707429   \n",
       "8  [175775, 47666, 4708, 6854, 2246, 1268, 2755, ...           277054   \n",
       "9  [406996, 24468, 3081, 955, 3508, 484, 959, 622...           448688   \n",
       "\n",
       "                                                Hits  Total Hits  Spread  \n",
       "0  [93309455, 5188600, 3563130, 3683255, 4581961,...   159410364       8  \n",
       "1  [6712677, 579104, 45992, 50222, 25002, 14471, ...     7685592       7  \n",
       "2  [31828241, 3477553, 492070, 1418068, 1030152, ...    43112972       7  \n",
       "3  [9183057, 377023, 278573, 389931, 610082, 5032...    13290588       8  \n",
       "4  [5888778, 70819, 48484, 56024, 197493, 28785, ...     7678087       9  \n",
       "5  [15451000, 1451736, 1293342, 842496, 974795, 2...    23726169      10  \n",
       "6  [7189473, 153217, 43043, 128544, 108170, 54837...     8775957       8  \n",
       "7  [49748855, 1656033, 412070, 2206076, 788399, 8...    59928122       6  \n",
       "8  [11795810, 3463378, 445489, 572128, 320399, 17...    19787538       8  \n",
       "9  [29573293, 2373268, 461169, 150665, 655532, 10...    34247745       5  "
      ]
     },
     "execution_count": 55,
     "metadata": {},
     "output_type": "execute_result"
    }
   ],
   "source": [
    "def in_tagnames_keep(tag):\n",
    "    return tag in tagnames_keep\n",
    "\n",
    "filtered_tags_df = filtered_tags_df.iloc[filtered_tags_df['Name'].apply(in_tagnames_keep).values]\n",
    "\n",
    "filtered_tags_df.reset_index(drop=True, inplace=True)\n",
    "\n",
    "filtered_tags_df.head(10)"
   ]
  },
  {
   "cell_type": "markdown",
   "id": "3671421f",
   "metadata": {},
   "source": [
    "# Data Visualization\n",
    "\n",
    "Kudos are synonymous to likes, hits are synonymous to views."
   ]
  },
  {
   "cell_type": "markdown",
   "id": "243d08fd",
   "metadata": {},
   "source": [
    "We would like to examine how our filtered set of tags are distributed in terms of average popularity. However, this is difficult to do when there are multiple categories of media with varying popularities. filtered_tags_df contains the raw totals of each popularity metric, and from there, we can calculate a more balanced overall metric based on the the distributions of each anime/manga compared to the total media samples."
   ]
  },
  {
   "cell_type": "code",
   "execution_count": 81,
   "id": "7e3d52ab",
   "metadata": {
    "scrolled": true
   },
   "outputs": [
    {
     "data": {
      "text/html": [
       "<div>\n",
       "<style scoped>\n",
       "    .dataframe tbody tr th:only-of-type {\n",
       "        vertical-align: middle;\n",
       "    }\n",
       "\n",
       "    .dataframe tbody tr th {\n",
       "        vertical-align: top;\n",
       "    }\n",
       "\n",
       "    .dataframe thead th {\n",
       "        text-align: right;\n",
       "    }\n",
       "</style>\n",
       "<table border=\"1\" class=\"dataframe\">\n",
       "  <thead>\n",
       "    <tr style=\"text-align: right;\">\n",
       "      <th></th>\n",
       "      <th>Overall Average Kudos</th>\n",
       "      <th>Overall Average Comments</th>\n",
       "      <th>Overall Average Bookmarks</th>\n",
       "      <th>Overall Average Hits</th>\n",
       "    </tr>\n",
       "  </thead>\n",
       "  <tbody>\n",
       "    <tr>\n",
       "      <th>count</th>\n",
       "      <td>587.000000</td>\n",
       "      <td>587.000000</td>\n",
       "      <td>587.000000</td>\n",
       "      <td>587.000000</td>\n",
       "    </tr>\n",
       "    <tr>\n",
       "      <th>mean</th>\n",
       "      <td>222.577058</td>\n",
       "      <td>27.450150</td>\n",
       "      <td>33.290328</td>\n",
       "      <td>3147.956388</td>\n",
       "    </tr>\n",
       "    <tr>\n",
       "      <th>std</th>\n",
       "      <td>71.459614</td>\n",
       "      <td>15.429152</td>\n",
       "      <td>16.098510</td>\n",
       "      <td>1302.769064</td>\n",
       "    </tr>\n",
       "    <tr>\n",
       "      <th>min</th>\n",
       "      <td>52.624616</td>\n",
       "      <td>5.057398</td>\n",
       "      <td>7.429468</td>\n",
       "      <td>865.168582</td>\n",
       "    </tr>\n",
       "    <tr>\n",
       "      <th>25%</th>\n",
       "      <td>174.435269</td>\n",
       "      <td>16.993085</td>\n",
       "      <td>22.285339</td>\n",
       "      <td>2237.742600</td>\n",
       "    </tr>\n",
       "    <tr>\n",
       "      <th>50%</th>\n",
       "      <td>212.396635</td>\n",
       "      <td>23.479084</td>\n",
       "      <td>30.238714</td>\n",
       "      <td>2852.443764</td>\n",
       "    </tr>\n",
       "    <tr>\n",
       "      <th>75%</th>\n",
       "      <td>257.442070</td>\n",
       "      <td>33.356944</td>\n",
       "      <td>40.222096</td>\n",
       "      <td>3805.838025</td>\n",
       "    </tr>\n",
       "    <tr>\n",
       "      <th>max</th>\n",
       "      <td>658.491242</td>\n",
       "      <td>105.904556</td>\n",
       "      <td>121.769751</td>\n",
       "      <td>9083.886549</td>\n",
       "    </tr>\n",
       "  </tbody>\n",
       "</table>\n",
       "</div>"
      ],
      "text/plain": [
       "       Overall Average Kudos  Overall Average Comments  \\\n",
       "count             587.000000                587.000000   \n",
       "mean              222.577058                 27.450150   \n",
       "std                71.459614                 15.429152   \n",
       "min                52.624616                  5.057398   \n",
       "25%               174.435269                 16.993085   \n",
       "50%               212.396635                 23.479084   \n",
       "75%               257.442070                 33.356944   \n",
       "max               658.491242                105.904556   \n",
       "\n",
       "       Overall Average Bookmarks  Overall Average Hits  \n",
       "count                 587.000000            587.000000  \n",
       "mean                   33.290328           3147.956388  \n",
       "std                    16.098510           1302.769064  \n",
       "min                     7.429468            865.168582  \n",
       "25%                    22.285339           2237.742600  \n",
       "50%                    30.238714           2852.443764  \n",
       "75%                    40.222096           3805.838025  \n",
       "max                   121.769751           9083.886549  "
      ]
     },
     "metadata": {},
     "output_type": "display_data"
    },
    {
     "name": "stdout",
     "output_type": "stream",
     "text": [
      "Median values:\n"
     ]
    },
    {
     "data": {
      "text/plain": [
       "Overall Average Kudos         212.396635\n",
       "Overall Average Comments       23.479084\n",
       "Overall Average Bookmarks      30.238714\n",
       "Overall Average Hits         2852.443764\n",
       "dtype: float64"
      ]
     },
     "metadata": {},
     "output_type": "display_data"
    }
   ],
   "source": [
    "np.seterr(invalid='ignore')\n",
    "filtered_tags_averages_df = pd.DataFrame()\n",
    "filtered_tags_averages_df['Name'] = filtered_tags_df['Name']\n",
    "filtered_tags_averages_df['Count'] = filtered_tags_df['Count']\n",
    "filtered_tags_averages_df['Total Count'] = filtered_tags_df['Total Count']\n",
    "texts = ['Kudos', 'Comments', 'Bookmarks', 'Hits']\n",
    "for text in texts:\n",
    "    filtered_tags_averages_df[f'Average {text}'] = filtered_tags_df[[f'{text}', 'Count']].apply(lambda x: np.nan_to_num(np.array(x[0])/np.array(x[1])), axis = 1)\n",
    "    filtered_tags_averages_df[f'Overall Average {text}'] = filtered_tags_averages_df[f'Average {text}'].apply(lambda x: np.average(np.array(x), weights = np.array(fandom_sizes_norm)))\n",
    "numbered_columns = filtered_tags_averages_df[['Overall Average Kudos', 'Overall Average Comments', 'Overall Average Bookmarks', 'Overall Average Hits']]\n",
    "display(numbered_columns.describe())\n",
    "print('Median values:')\n",
    "display(numbered_columns.median())"
   ]
  },
  {
   "cell_type": "markdown",
   "id": "4e0ab7d5",
   "metadata": {},
   "source": [
    "Here we plot the distribution of each popularity metric."
   ]
  },
  {
   "cell_type": "code",
   "execution_count": 95,
   "id": "eb70ee5c",
   "metadata": {},
   "outputs": [],
   "source": [
    "avg_kudos = []\n",
    "avg_comments = []\n",
    "avg_bookmarks = []\n",
    "avg_hits = []\n",
    "counts = []\n",
    "\n",
    "for i in range(len(filtered_tags_df)):\n",
    "    avg_kudos.append(filtered_tags_df.iloc[i]['Total Kudos']/filtered_tags_df.iloc[i]['Total Count'])\n",
    "    avg_comments.append(filtered_tags_df.iloc[i]['Total Comments']/filtered_tags_df.iloc[i]['Total Count'])\n",
    "    avg_bookmarks.append(filtered_tags_df.iloc[i]['Total Bookmarks']/filtered_tags_df.iloc[i]['Total Count'])\n",
    "    avg_hits.append(filtered_tags_df.iloc[i]['Total Hits']/filtered_tags_df.iloc[i]['Total Count'])\n",
    "    counts.append(filtered_tags_df.iloc[i]['Total Count'])"
   ]
  },
  {
   "cell_type": "code",
   "execution_count": 96,
   "id": "d4e5413b",
   "metadata": {
    "scrolled": true
   },
   "outputs": [
    {
     "data": {
      "image/png": "[encoded data removed]",
      "text/plain": [
       "<Figure size 640x480 with 4 Axes>"
      ]
     },
     "metadata": {},
     "output_type": "display_data"
    }
   ],
   "source": [
    "plt.subplot(2, 2, 1)\n",
    "plt.hist(avg_kudos)\n",
    "plt.title('Average Kudo Count Distribution')\n",
    "plt.xlabel('avg. kudos')\n",
    "plt.subplot(2, 2, 2)\n",
    "plt.hist(avg_comments)\n",
    "plt.title('Average Comment Count Distribution')\n",
    "plt.xlabel('avg. comments')\n",
    "plt.subplot(2, 2, 3)\n",
    "plt.hist(avg_bookmarks)\n",
    "plt.title('Average Bookmark Count Distribution')\n",
    "plt.xlabel('avg. bookmarks')\n",
    "plt.subplot(2, 2, 4)\n",
    "plt.hist(avg_hits)\n",
    "plt.title('Average Hit Count Distribution')\n",
    "plt.xlabel('avg. hits')\n",
    "plt.subplots_adjust(hspace=0.5, wspace=1)\n",
    "plt.show()"
   ]
  },
  {
   "cell_type": "markdown",
   "id": "6c64efc8",
   "metadata": {
    "scrolled": false
   },
   "source": [
    "As we can see, the tag data is skewed right for every measurement. This will be important later on when we perform outlier detection."
   ]
  },
  {
   "cell_type": "markdown",
   "id": "faca9fbd",
   "metadata": {},
   "source": [
    "One potential concern is that the skewed elements correspond to tags that appear more frequently. We graph the tags based on frequency to examine this."
   ]
  },
  {
   "cell_type": "code",
   "execution_count": 97,
   "id": "27b40c34",
   "metadata": {
    "scrolled": false
   },
   "outputs": [
    {
     "data": {
      "image/png": "[encoded data removed]",
      "text/plain": [
       "<Figure size 640x480 with 4 Axes>"
      ]
     },
     "metadata": {},
     "output_type": "display_data"
    }
   ],
   "source": [
    "plt.subplot(2, 2, 1)\n",
    "plt.scatter(counts, avg_kudos)\n",
    "plt.title('Average Kudo Count Distribution')\n",
    "plt.xlabel('count')\n",
    "plt.subplot(2, 2, 2)\n",
    "plt.scatter(counts, avg_comments)\n",
    "plt.title('Average Comment Count Distribution')\n",
    "plt.xlabel('count')\n",
    "plt.subplot(2, 2, 3)\n",
    "plt.scatter(counts, avg_bookmarks)\n",
    "plt.title('Average Bookmark Count Distribution')\n",
    "plt.xlabel('count')\n",
    "plt.subplot(2, 2, 4)\n",
    "plt.scatter(counts, avg_hits)\n",
    "plt.title('Average Hit Count Distribution')\n",
    "plt.xlabel('count')\n",
    "plt.subplots_adjust(hspace=0.5, wspace=1)\n",
    "plt.show()"
   ]
  },
  {
   "cell_type": "markdown",
   "id": "41abb285",
   "metadata": {},
   "source": [
    "Rather than being more skewed, it appears as if a higher count causes the popularity metrics to settle towards the average. "
   ]
  },
  {
   "cell_type": "markdown",
   "id": "16854991",
   "metadata": {},
   "source": [
    "Here are the highest rated tags for each popularity metric."
   ]
  },
  {
   "cell_type": "code",
   "execution_count": 85,
   "id": "7fdf5d00",
   "metadata": {
    "scrolled": false
   },
   "outputs": [
    {
     "data": {
      "text/html": [
       "<div>\n",
       "<style scoped>\n",
       "    .dataframe tbody tr th:only-of-type {\n",
       "        vertical-align: middle;\n",
       "    }\n",
       "\n",
       "    .dataframe tbody tr th {\n",
       "        vertical-align: top;\n",
       "    }\n",
       "\n",
       "    .dataframe thead th {\n",
       "        text-align: right;\n",
       "    }\n",
       "</style>\n",
       "<table border=\"1\" class=\"dataframe\">\n",
       "  <thead>\n",
       "    <tr style=\"text-align: right;\">\n",
       "      <th></th>\n",
       "      <th>Name</th>\n",
       "      <th>Overall Average Kudos</th>\n",
       "    </tr>\n",
       "  </thead>\n",
       "  <tbody>\n",
       "    <tr>\n",
       "      <th>99</th>\n",
       "      <td>POV Outsider</td>\n",
       "      <td>658.491242</td>\n",
       "    </tr>\n",
       "    <tr>\n",
       "      <th>171</th>\n",
       "      <td>Alternate Universe - Time Travel</td>\n",
       "      <td>531.805423</td>\n",
       "    </tr>\n",
       "    <tr>\n",
       "      <th>139</th>\n",
       "      <td>Fix-It of Sorts</td>\n",
       "      <td>525.551005</td>\n",
       "    </tr>\n",
       "    <tr>\n",
       "      <th>306</th>\n",
       "      <td>Fix-It</td>\n",
       "      <td>478.528440</td>\n",
       "    </tr>\n",
       "    <tr>\n",
       "      <th>84</th>\n",
       "      <td>Bodyswap</td>\n",
       "      <td>467.658446</td>\n",
       "    </tr>\n",
       "    <tr>\n",
       "      <th>199</th>\n",
       "      <td>Team as Family</td>\n",
       "      <td>448.283865</td>\n",
       "    </tr>\n",
       "    <tr>\n",
       "      <th>165</th>\n",
       "      <td>Redemption</td>\n",
       "      <td>440.991899</td>\n",
       "    </tr>\n",
       "    <tr>\n",
       "      <th>35</th>\n",
       "      <td>Families of Choice</td>\n",
       "      <td>434.225621</td>\n",
       "    </tr>\n",
       "    <tr>\n",
       "      <th>25</th>\n",
       "      <td>Secret Identity</td>\n",
       "      <td>417.570671</td>\n",
       "    </tr>\n",
       "    <tr>\n",
       "      <th>107</th>\n",
       "      <td>Age Regression/De-Aging</td>\n",
       "      <td>416.835114</td>\n",
       "    </tr>\n",
       "  </tbody>\n",
       "</table>\n",
       "</div>"
      ],
      "text/plain": [
       "                                 Name  Overall Average Kudos\n",
       "99                       POV Outsider             658.491242\n",
       "171  Alternate Universe - Time Travel             531.805423\n",
       "139                   Fix-It of Sorts             525.551005\n",
       "306                            Fix-It             478.528440\n",
       "84                           Bodyswap             467.658446\n",
       "199                    Team as Family             448.283865\n",
       "165                        Redemption             440.991899\n",
       "35                 Families of Choice             434.225621\n",
       "25                    Secret Identity             417.570671\n",
       "107           Age Regression/De-Aging             416.835114"
      ]
     },
     "metadata": {},
     "output_type": "display_data"
    },
    {
     "data": {
      "text/html": [
       "<div>\n",
       "<style scoped>\n",
       "    .dataframe tbody tr th:only-of-type {\n",
       "        vertical-align: middle;\n",
       "    }\n",
       "\n",
       "    .dataframe tbody tr th {\n",
       "        vertical-align: top;\n",
       "    }\n",
       "\n",
       "    .dataframe thead th {\n",
       "        text-align: right;\n",
       "    }\n",
       "</style>\n",
       "<table border=\"1\" class=\"dataframe\">\n",
       "  <thead>\n",
       "    <tr style=\"text-align: right;\">\n",
       "      <th></th>\n",
       "      <th>Name</th>\n",
       "      <th>Overall Average Comments</th>\n",
       "    </tr>\n",
       "  </thead>\n",
       "  <tbody>\n",
       "    <tr>\n",
       "      <th>139</th>\n",
       "      <td>Fix-It of Sorts</td>\n",
       "      <td>105.904556</td>\n",
       "    </tr>\n",
       "    <tr>\n",
       "      <th>157</th>\n",
       "      <td>Worldbuilding</td>\n",
       "      <td>102.442500</td>\n",
       "    </tr>\n",
       "    <tr>\n",
       "      <th>33</th>\n",
       "      <td>It Gets Worse Before It Gets Better</td>\n",
       "      <td>94.960648</td>\n",
       "    </tr>\n",
       "    <tr>\n",
       "      <th>171</th>\n",
       "      <td>Alternate Universe - Time Travel</td>\n",
       "      <td>93.648502</td>\n",
       "    </tr>\n",
       "    <tr>\n",
       "      <th>306</th>\n",
       "      <td>Fix-It</td>\n",
       "      <td>83.108280</td>\n",
       "    </tr>\n",
       "    <tr>\n",
       "      <th>25</th>\n",
       "      <td>Secret Identity</td>\n",
       "      <td>82.682867</td>\n",
       "    </tr>\n",
       "    <tr>\n",
       "      <th>20</th>\n",
       "      <td>Slow Burn</td>\n",
       "      <td>82.438102</td>\n",
       "    </tr>\n",
       "    <tr>\n",
       "      <th>165</th>\n",
       "      <td>Redemption</td>\n",
       "      <td>81.770454</td>\n",
       "    </tr>\n",
       "    <tr>\n",
       "      <th>23</th>\n",
       "      <td>Human Experimentation</td>\n",
       "      <td>74.043321</td>\n",
       "    </tr>\n",
       "    <tr>\n",
       "      <th>35</th>\n",
       "      <td>Families of Choice</td>\n",
       "      <td>73.978356</td>\n",
       "    </tr>\n",
       "  </tbody>\n",
       "</table>\n",
       "</div>"
      ],
      "text/plain": [
       "                                    Name  Overall Average Comments\n",
       "139                      Fix-It of Sorts                105.904556\n",
       "157                        Worldbuilding                102.442500\n",
       "33   It Gets Worse Before It Gets Better                 94.960648\n",
       "171     Alternate Universe - Time Travel                 93.648502\n",
       "306                               Fix-It                 83.108280\n",
       "25                       Secret Identity                 82.682867\n",
       "20                             Slow Burn                 82.438102\n",
       "165                           Redemption                 81.770454\n",
       "23                 Human Experimentation                 74.043321\n",
       "35                    Families of Choice                 73.978356"
      ]
     },
     "metadata": {},
     "output_type": "display_data"
    },
    {
     "data": {
      "text/html": [
       "<div>\n",
       "<style scoped>\n",
       "    .dataframe tbody tr th:only-of-type {\n",
       "        vertical-align: middle;\n",
       "    }\n",
       "\n",
       "    .dataframe tbody tr th {\n",
       "        vertical-align: top;\n",
       "    }\n",
       "\n",
       "    .dataframe thead th {\n",
       "        text-align: right;\n",
       "    }\n",
       "</style>\n",
       "<table border=\"1\" class=\"dataframe\">\n",
       "  <thead>\n",
       "    <tr style=\"text-align: right;\">\n",
       "      <th></th>\n",
       "      <th>Name</th>\n",
       "      <th>Overall Average Bookmarks</th>\n",
       "    </tr>\n",
       "  </thead>\n",
       "  <tbody>\n",
       "    <tr>\n",
       "      <th>139</th>\n",
       "      <td>Fix-It of Sorts</td>\n",
       "      <td>121.769751</td>\n",
       "    </tr>\n",
       "    <tr>\n",
       "      <th>171</th>\n",
       "      <td>Alternate Universe - Time Travel</td>\n",
       "      <td>113.645971</td>\n",
       "    </tr>\n",
       "    <tr>\n",
       "      <th>99</th>\n",
       "      <td>POV Outsider</td>\n",
       "      <td>112.952738</td>\n",
       "    </tr>\n",
       "    <tr>\n",
       "      <th>306</th>\n",
       "      <td>Fix-It</td>\n",
       "      <td>109.931179</td>\n",
       "    </tr>\n",
       "    <tr>\n",
       "      <th>157</th>\n",
       "      <td>Worldbuilding</td>\n",
       "      <td>100.081714</td>\n",
       "    </tr>\n",
       "    <tr>\n",
       "      <th>199</th>\n",
       "      <td>Team as Family</td>\n",
       "      <td>90.173518</td>\n",
       "    </tr>\n",
       "    <tr>\n",
       "      <th>35</th>\n",
       "      <td>Families of Choice</td>\n",
       "      <td>89.148408</td>\n",
       "    </tr>\n",
       "    <tr>\n",
       "      <th>25</th>\n",
       "      <td>Secret Identity</td>\n",
       "      <td>85.921172</td>\n",
       "    </tr>\n",
       "    <tr>\n",
       "      <th>165</th>\n",
       "      <td>Redemption</td>\n",
       "      <td>85.213287</td>\n",
       "    </tr>\n",
       "    <tr>\n",
       "      <th>33</th>\n",
       "      <td>It Gets Worse Before It Gets Better</td>\n",
       "      <td>83.100463</td>\n",
       "    </tr>\n",
       "  </tbody>\n",
       "</table>\n",
       "</div>"
      ],
      "text/plain": [
       "                                    Name  Overall Average Bookmarks\n",
       "139                      Fix-It of Sorts                 121.769751\n",
       "171     Alternate Universe - Time Travel                 113.645971\n",
       "99                          POV Outsider                 112.952738\n",
       "306                               Fix-It                 109.931179\n",
       "157                        Worldbuilding                 100.081714\n",
       "199                       Team as Family                  90.173518\n",
       "35                    Families of Choice                  89.148408\n",
       "25                       Secret Identity                  85.921172\n",
       "165                           Redemption                  85.213287\n",
       "33   It Gets Worse Before It Gets Better                  83.100463"
      ]
     },
     "metadata": {},
     "output_type": "display_data"
    },
    {
     "data": {
      "text/html": [
       "<div>\n",
       "<style scoped>\n",
       "    .dataframe tbody tr th:only-of-type {\n",
       "        vertical-align: middle;\n",
       "    }\n",
       "\n",
       "    .dataframe tbody tr th {\n",
       "        vertical-align: top;\n",
       "    }\n",
       "\n",
       "    .dataframe thead th {\n",
       "        text-align: right;\n",
       "    }\n",
       "</style>\n",
       "<table border=\"1\" class=\"dataframe\">\n",
       "  <thead>\n",
       "    <tr style=\"text-align: right;\">\n",
       "      <th></th>\n",
       "      <th>Name</th>\n",
       "      <th>Overall Average Hits</th>\n",
       "    </tr>\n",
       "  </thead>\n",
       "  <tbody>\n",
       "    <tr>\n",
       "      <th>171</th>\n",
       "      <td>Alternate Universe - Time Travel</td>\n",
       "      <td>9083.886549</td>\n",
       "    </tr>\n",
       "    <tr>\n",
       "      <th>139</th>\n",
       "      <td>Fix-It of Sorts</td>\n",
       "      <td>8327.845968</td>\n",
       "    </tr>\n",
       "    <tr>\n",
       "      <th>33</th>\n",
       "      <td>It Gets Worse Before It Gets Better</td>\n",
       "      <td>8300.846347</td>\n",
       "    </tr>\n",
       "    <tr>\n",
       "      <th>157</th>\n",
       "      <td>Worldbuilding</td>\n",
       "      <td>7795.273084</td>\n",
       "    </tr>\n",
       "    <tr>\n",
       "      <th>306</th>\n",
       "      <td>Fix-It</td>\n",
       "      <td>7752.448220</td>\n",
       "    </tr>\n",
       "    <tr>\n",
       "      <th>165</th>\n",
       "      <td>Redemption</td>\n",
       "      <td>7680.877411</td>\n",
       "    </tr>\n",
       "    <tr>\n",
       "      <th>59</th>\n",
       "      <td>Character Development</td>\n",
       "      <td>7623.561806</td>\n",
       "    </tr>\n",
       "    <tr>\n",
       "      <th>1</th>\n",
       "      <td>Queerplatonic Relationships</td>\n",
       "      <td>7487.189014</td>\n",
       "    </tr>\n",
       "    <tr>\n",
       "      <th>23</th>\n",
       "      <td>Human Experimentation</td>\n",
       "      <td>7296.053943</td>\n",
       "    </tr>\n",
       "    <tr>\n",
       "      <th>25</th>\n",
       "      <td>Secret Identity</td>\n",
       "      <td>7059.505805</td>\n",
       "    </tr>\n",
       "  </tbody>\n",
       "</table>\n",
       "</div>"
      ],
      "text/plain": [
       "                                    Name  Overall Average Hits\n",
       "171     Alternate Universe - Time Travel           9083.886549\n",
       "139                      Fix-It of Sorts           8327.845968\n",
       "33   It Gets Worse Before It Gets Better           8300.846347\n",
       "157                        Worldbuilding           7795.273084\n",
       "306                               Fix-It           7752.448220\n",
       "165                           Redemption           7680.877411\n",
       "59                 Character Development           7623.561806\n",
       "1            Queerplatonic Relationships           7487.189014\n",
       "23                 Human Experimentation           7296.053943\n",
       "25                       Secret Identity           7059.505805"
      ]
     },
     "metadata": {},
     "output_type": "display_data"
    }
   ],
   "source": [
    "metrics = ['Overall Average Kudos', 'Overall Average Comments', 'Overall Average Bookmarks', 'Overall Average Hits']\n",
    "view = filtered_tags_averages_df[['Name', 'Overall Average Kudos', 'Overall Average Comments', 'Overall Average Bookmarks', 'Overall Average Hits']]\n",
    "for metric in metrics:\n",
    "    display(view[['Name', metric]].sort_values(by = metric, ascending = False).head(10))\n",
    "    "
   ]
  },
  {
   "cell_type": "markdown",
   "id": "7f0f006c",
   "metadata": {},
   "source": [
    "Here are the lowest rated tags for each popularity metric."
   ]
  },
  {
   "cell_type": "code",
   "execution_count": 86,
   "id": "3a1016ba",
   "metadata": {},
   "outputs": [
    {
     "data": {
      "text/html": [
       "<div>\n",
       "<style scoped>\n",
       "    .dataframe tbody tr th:only-of-type {\n",
       "        vertical-align: middle;\n",
       "    }\n",
       "\n",
       "    .dataframe tbody tr th {\n",
       "        vertical-align: top;\n",
       "    }\n",
       "\n",
       "    .dataframe thead th {\n",
       "        text-align: right;\n",
       "    }\n",
       "</style>\n",
       "<table border=\"1\" class=\"dataframe\">\n",
       "  <thead>\n",
       "    <tr style=\"text-align: right;\">\n",
       "      <th></th>\n",
       "      <th>Name</th>\n",
       "      <th>Overall Average Kudos</th>\n",
       "    </tr>\n",
       "  </thead>\n",
       "  <tbody>\n",
       "    <tr>\n",
       "      <th>577</th>\n",
       "      <td>Podfic</td>\n",
       "      <td>52.624616</td>\n",
       "    </tr>\n",
       "    <tr>\n",
       "      <th>583</th>\n",
       "      <td>Poetry</td>\n",
       "      <td>70.952321</td>\n",
       "    </tr>\n",
       "    <tr>\n",
       "      <th>562</th>\n",
       "      <td>No Dialogue</td>\n",
       "      <td>87.432273</td>\n",
       "    </tr>\n",
       "    <tr>\n",
       "      <th>531</th>\n",
       "      <td>Songfic</td>\n",
       "      <td>88.698435</td>\n",
       "    </tr>\n",
       "    <tr>\n",
       "      <th>508</th>\n",
       "      <td>Inspired by Music</td>\n",
       "      <td>99.810605</td>\n",
       "    </tr>\n",
       "    <tr>\n",
       "      <th>586</th>\n",
       "      <td>Alternate Universe - Historical</td>\n",
       "      <td>102.046106</td>\n",
       "    </tr>\n",
       "    <tr>\n",
       "      <th>584</th>\n",
       "      <td>Modern Era</td>\n",
       "      <td>102.468161</td>\n",
       "    </tr>\n",
       "    <tr>\n",
       "      <th>585</th>\n",
       "      <td>Afterlife</td>\n",
       "      <td>106.546106</td>\n",
       "    </tr>\n",
       "    <tr>\n",
       "      <th>387</th>\n",
       "      <td>Sad Ending</td>\n",
       "      <td>108.735225</td>\n",
       "    </tr>\n",
       "    <tr>\n",
       "      <th>576</th>\n",
       "      <td>Reminiscing</td>\n",
       "      <td>110.680197</td>\n",
       "    </tr>\n",
       "  </tbody>\n",
       "</table>\n",
       "</div>"
      ],
      "text/plain": [
       "                                Name  Overall Average Kudos\n",
       "577                           Podfic              52.624616\n",
       "583                           Poetry              70.952321\n",
       "562                      No Dialogue              87.432273\n",
       "531                          Songfic              88.698435\n",
       "508                Inspired by Music              99.810605\n",
       "586  Alternate Universe - Historical             102.046106\n",
       "584                       Modern Era             102.468161\n",
       "585                        Afterlife             106.546106\n",
       "387                       Sad Ending             108.735225\n",
       "576                      Reminiscing             110.680197"
      ]
     },
     "metadata": {},
     "output_type": "display_data"
    },
    {
     "data": {
      "text/html": [
       "<div>\n",
       "<style scoped>\n",
       "    .dataframe tbody tr th:only-of-type {\n",
       "        vertical-align: middle;\n",
       "    }\n",
       "\n",
       "    .dataframe tbody tr th {\n",
       "        vertical-align: top;\n",
       "    }\n",
       "\n",
       "    .dataframe thead th {\n",
       "        text-align: right;\n",
       "    }\n",
       "</style>\n",
       "<table border=\"1\" class=\"dataframe\">\n",
       "  <thead>\n",
       "    <tr style=\"text-align: right;\">\n",
       "      <th></th>\n",
       "      <th>Name</th>\n",
       "      <th>Overall Average Comments</th>\n",
       "    </tr>\n",
       "  </thead>\n",
       "  <tbody>\n",
       "    <tr>\n",
       "      <th>562</th>\n",
       "      <td>No Dialogue</td>\n",
       "      <td>5.057398</td>\n",
       "    </tr>\n",
       "    <tr>\n",
       "      <th>408</th>\n",
       "      <td>Short One Shot</td>\n",
       "      <td>5.295459</td>\n",
       "    </tr>\n",
       "    <tr>\n",
       "      <th>222</th>\n",
       "      <td>Ficlet</td>\n",
       "      <td>6.166790</td>\n",
       "    </tr>\n",
       "    <tr>\n",
       "      <th>102</th>\n",
       "      <td>Short</td>\n",
       "      <td>6.737938</td>\n",
       "    </tr>\n",
       "    <tr>\n",
       "      <th>531</th>\n",
       "      <td>Songfic</td>\n",
       "      <td>6.941398</td>\n",
       "    </tr>\n",
       "    <tr>\n",
       "      <th>464</th>\n",
       "      <td>Tickling</td>\n",
       "      <td>7.003629</td>\n",
       "    </tr>\n",
       "    <tr>\n",
       "      <th>530</th>\n",
       "      <td>Short &amp; Sweet</td>\n",
       "      <td>7.098728</td>\n",
       "    </tr>\n",
       "    <tr>\n",
       "      <th>561</th>\n",
       "      <td>Random &amp; Short</td>\n",
       "      <td>7.186046</td>\n",
       "    </tr>\n",
       "    <tr>\n",
       "      <th>576</th>\n",
       "      <td>Reminiscing</td>\n",
       "      <td>7.187390</td>\n",
       "    </tr>\n",
       "    <tr>\n",
       "      <th>103</th>\n",
       "      <td>Drabble</td>\n",
       "      <td>7.561609</td>\n",
       "    </tr>\n",
       "  </tbody>\n",
       "</table>\n",
       "</div>"
      ],
      "text/plain": [
       "               Name  Overall Average Comments\n",
       "562     No Dialogue                  5.057398\n",
       "408  Short One Shot                  5.295459\n",
       "222          Ficlet                  6.166790\n",
       "102           Short                  6.737938\n",
       "531         Songfic                  6.941398\n",
       "464        Tickling                  7.003629\n",
       "530   Short & Sweet                  7.098728\n",
       "561  Random & Short                  7.186046\n",
       "576     Reminiscing                  7.187390\n",
       "103         Drabble                  7.561609"
      ]
     },
     "metadata": {},
     "output_type": "display_data"
    },
    {
     "data": {
      "text/html": [
       "<div>\n",
       "<style scoped>\n",
       "    .dataframe tbody tr th:only-of-type {\n",
       "        vertical-align: middle;\n",
       "    }\n",
       "\n",
       "    .dataframe tbody tr th {\n",
       "        vertical-align: top;\n",
       "    }\n",
       "\n",
       "    .dataframe thead th {\n",
       "        text-align: right;\n",
       "    }\n",
       "</style>\n",
       "<table border=\"1\" class=\"dataframe\">\n",
       "  <thead>\n",
       "    <tr style=\"text-align: right;\">\n",
       "      <th></th>\n",
       "      <th>Name</th>\n",
       "      <th>Overall Average Bookmarks</th>\n",
       "    </tr>\n",
       "  </thead>\n",
       "  <tbody>\n",
       "    <tr>\n",
       "      <th>583</th>\n",
       "      <td>Poetry</td>\n",
       "      <td>7.429468</td>\n",
       "    </tr>\n",
       "    <tr>\n",
       "      <th>562</th>\n",
       "      <td>No Dialogue</td>\n",
       "      <td>8.025663</td>\n",
       "    </tr>\n",
       "    <tr>\n",
       "      <th>577</th>\n",
       "      <td>Podfic</td>\n",
       "      <td>8.730727</td>\n",
       "    </tr>\n",
       "    <tr>\n",
       "      <th>531</th>\n",
       "      <td>Songfic</td>\n",
       "      <td>9.568674</td>\n",
       "    </tr>\n",
       "    <tr>\n",
       "      <th>408</th>\n",
       "      <td>Short One Shot</td>\n",
       "      <td>9.704751</td>\n",
       "    </tr>\n",
       "    <tr>\n",
       "      <th>222</th>\n",
       "      <td>Ficlet</td>\n",
       "      <td>9.791042</td>\n",
       "    </tr>\n",
       "    <tr>\n",
       "      <th>561</th>\n",
       "      <td>Random &amp; Short</td>\n",
       "      <td>9.915880</td>\n",
       "    </tr>\n",
       "    <tr>\n",
       "      <th>455</th>\n",
       "      <td>Gender-Neutral Pronouns</td>\n",
       "      <td>10.269796</td>\n",
       "    </tr>\n",
       "    <tr>\n",
       "      <th>103</th>\n",
       "      <td>Drabble</td>\n",
       "      <td>10.771119</td>\n",
       "    </tr>\n",
       "    <tr>\n",
       "      <th>102</th>\n",
       "      <td>Short</td>\n",
       "      <td>11.684786</td>\n",
       "    </tr>\n",
       "  </tbody>\n",
       "</table>\n",
       "</div>"
      ],
      "text/plain": [
       "                        Name  Overall Average Bookmarks\n",
       "583                   Poetry                   7.429468\n",
       "562              No Dialogue                   8.025663\n",
       "577                   Podfic                   8.730727\n",
       "531                  Songfic                   9.568674\n",
       "408           Short One Shot                   9.704751\n",
       "222                   Ficlet                   9.791042\n",
       "561           Random & Short                   9.915880\n",
       "455  Gender-Neutral Pronouns                  10.269796\n",
       "103                  Drabble                  10.771119\n",
       "102                    Short                  11.684786"
      ]
     },
     "metadata": {},
     "output_type": "display_data"
    },
    {
     "data": {
      "text/html": [
       "<div>\n",
       "<style scoped>\n",
       "    .dataframe tbody tr th:only-of-type {\n",
       "        vertical-align: middle;\n",
       "    }\n",
       "\n",
       "    .dataframe tbody tr th {\n",
       "        vertical-align: top;\n",
       "    }\n",
       "\n",
       "    .dataframe thead th {\n",
       "        text-align: right;\n",
       "    }\n",
       "</style>\n",
       "<table border=\"1\" class=\"dataframe\">\n",
       "  <thead>\n",
       "    <tr style=\"text-align: right;\">\n",
       "      <th></th>\n",
       "      <th>Name</th>\n",
       "      <th>Overall Average Hits</th>\n",
       "    </tr>\n",
       "  </thead>\n",
       "  <tbody>\n",
       "    <tr>\n",
       "      <th>562</th>\n",
       "      <td>No Dialogue</td>\n",
       "      <td>865.168582</td>\n",
       "    </tr>\n",
       "    <tr>\n",
       "      <th>583</th>\n",
       "      <td>Poetry</td>\n",
       "      <td>915.548389</td>\n",
       "    </tr>\n",
       "    <tr>\n",
       "      <th>576</th>\n",
       "      <td>Reminiscing</td>\n",
       "      <td>1148.918678</td>\n",
       "    </tr>\n",
       "    <tr>\n",
       "      <th>222</th>\n",
       "      <td>Ficlet</td>\n",
       "      <td>1179.105534</td>\n",
       "    </tr>\n",
       "    <tr>\n",
       "      <th>531</th>\n",
       "      <td>Songfic</td>\n",
       "      <td>1196.071010</td>\n",
       "    </tr>\n",
       "    <tr>\n",
       "      <th>408</th>\n",
       "      <td>Short One Shot</td>\n",
       "      <td>1198.648393</td>\n",
       "    </tr>\n",
       "    <tr>\n",
       "      <th>585</th>\n",
       "      <td>Afterlife</td>\n",
       "      <td>1198.847611</td>\n",
       "    </tr>\n",
       "    <tr>\n",
       "      <th>508</th>\n",
       "      <td>Inspired by Music</td>\n",
       "      <td>1231.572079</td>\n",
       "    </tr>\n",
       "    <tr>\n",
       "      <th>561</th>\n",
       "      <td>Random &amp; Short</td>\n",
       "      <td>1236.640284</td>\n",
       "    </tr>\n",
       "    <tr>\n",
       "      <th>579</th>\n",
       "      <td>New Year's Eve</td>\n",
       "      <td>1236.958776</td>\n",
       "    </tr>\n",
       "  </tbody>\n",
       "</table>\n",
       "</div>"
      ],
      "text/plain": [
       "                  Name  Overall Average Hits\n",
       "562        No Dialogue            865.168582\n",
       "583             Poetry            915.548389\n",
       "576        Reminiscing           1148.918678\n",
       "222             Ficlet           1179.105534\n",
       "531            Songfic           1196.071010\n",
       "408     Short One Shot           1198.648393\n",
       "585          Afterlife           1198.847611\n",
       "508  Inspired by Music           1231.572079\n",
       "561     Random & Short           1236.640284\n",
       "579     New Year's Eve           1236.958776"
      ]
     },
     "metadata": {},
     "output_type": "display_data"
    }
   ],
   "source": [
    "metrics = ['Overall Average Kudos', 'Overall Average Comments', 'Overall Average Bookmarks', 'Overall Average Hits']\n",
    "view = filtered_tags_averages_df[['Name', 'Overall Average Kudos', 'Overall Average Comments', 'Overall Average Bookmarks', 'Overall Average Hits']]\n",
    "for metric in metrics:\n",
    "    display(view[['Name', metric]].sort_values(by = metric, ascending = True).head(10))\n",
    "    "
   ]
  },
  {
   "cell_type": "markdown",
   "id": "4b851053",
   "metadata": {},
   "source": [
    "# Data Modeling\n",
    "\n",
    "While the above tables gives us a general idea of what tags are more influential than others, we would like to formally discover our anomalous tags. Since we are examining four different metrics, we have several options:\n",
    "\n",
    "1. Examining each tag individually.\n",
    "2. Examining all tags together."
   ]
  },
  {
   "cell_type": "markdown",
   "id": "563a7be5",
   "metadata": {},
   "source": [
    "## Viewing each metric individually\n",
    "\n",
    "Outlier detection for 1-D data is fairly straightforward from the perspective of a normal distribution. However, above distributions have shown that the data is skewed right. In order to allow us to use outlier detection for normal distributions, we standardize our data using logarithmic transformations. Below is a before and after in terms of skew of our data:"
   ]
  },
  {
   "cell_type": "code",
   "execution_count": 113,
   "id": "ef4df346",
   "metadata": {
    "scrolled": false
   },
   "outputs": [
    {
     "data": {
      "text/plain": [
       "Overall Average Kudos        1.237835\n",
       "Overall Average Comments     1.649197\n",
       "Overall Average Bookmarks    1.726134\n",
       "Overall Average Hits         1.244787\n",
       "dtype: float64"
      ]
     },
     "metadata": {},
     "output_type": "display_data"
    },
    {
     "data": {
      "text/plain": [
       "Overall Average Kudos       -0.093150\n",
       "Overall Average Comments     0.032980\n",
       "Overall Average Bookmarks    0.043384\n",
       "Overall Average Hits         0.063218\n",
       "dtype: float64"
      ]
     },
     "metadata": {},
     "output_type": "display_data"
    }
   ],
   "source": [
    "std_tags_df = filtered_tags_averages_df[['Name','Overall Average Kudos', 'Overall Average Comments', 'Overall Average Bookmarks', 'Overall Average Hits']].copy(deep = True)\n",
    "display(std_tags_df[['Overall Average Kudos', 'Overall Average Comments', 'Overall Average Bookmarks', 'Overall Average Hits']].skew())\n",
    "\n",
    "std_tags_df['Overall Average Kudos'] = pd.DataFrame(np.log(std_tags_df['Overall Average Kudos'].values))\n",
    "std_tags_df['Overall Average Comments'] = pd.DataFrame(np.log(std_tags_df['Overall Average Comments'].values))\n",
    "std_tags_df['Overall Average Bookmarks'] = pd.DataFrame(np.log(std_tags_df['Overall Average Bookmarks'].values))\n",
    "std_tags_df['Overall Average Hits'] = pd.DataFrame(np.log(std_tags_df['Overall Average Hits'].values))\n",
    "\n",
    "display(std_tags_df[['Overall Average Kudos', 'Overall Average Comments', 'Overall Average Bookmarks', 'Overall Average Hits']].skew())\n"
   ]
  },
  {
   "cell_type": "code",
   "execution_count": 123,
   "id": "3b81d28b",
   "metadata": {
    "scrolled": true
   },
   "outputs": [
    {
     "data": {
      "image/png": "[encoded data removed]",
      "text/plain": [
       "<Figure size 640x480 with 4 Axes>"
      ]
     },
     "metadata": {},
     "output_type": "display_data"
    }
   ],
   "source": [
    "plt.subplot(2, 2, 1)\n",
    "plt.hist(std_tags_df['Overall Average Kudos'].values)\n",
    "plt.title('Average Kudo Count Distribution')\n",
    "plt.xlabel('avg. kudos')\n",
    "plt.subplot(2, 2, 2)\n",
    "plt.hist(std_tags_df['Overall Average Comments'].values)\n",
    "plt.title('Average Comment Count Distribution')\n",
    "plt.xlabel('avg. comments')\n",
    "plt.subplot(2, 2, 3)\n",
    "plt.hist(std_tags_df['Overall Average Bookmarks'].values)\n",
    "plt.title('Average Bookmark Count Distribution')\n",
    "plt.xlabel('avg. bookmarks')\n",
    "plt.subplot(2, 2, 4)\n",
    "plt.hist(std_tags_df['Overall Average Hits'].values)\n",
    "plt.title('Average Hit Count Distribution')\n",
    "plt.xlabel('avg. hits')\n",
    "plt.subplots_adjust(hspace=0.5, wspace=1)\n",
    "plt.show()"
   ]
  },
  {
   "cell_type": "markdown",
   "id": "aadfa77c",
   "metadata": {},
   "source": [
    "Now we can examine tags considered anomalies according to their z-scores. The mininum z-score absolute value can be adjusted below."
   ]
  },
  {
   "cell_type": "code",
   "execution_count": 181,
   "id": "00eb92d4",
   "metadata": {
    "scrolled": false
   },
   "outputs": [
    {
     "data": {
      "text/html": [
       "<div>\n",
       "<style scoped>\n",
       "    .dataframe tbody tr th:only-of-type {\n",
       "        vertical-align: middle;\n",
       "    }\n",
       "\n",
       "    .dataframe tbody tr th {\n",
       "        vertical-align: top;\n",
       "    }\n",
       "\n",
       "    .dataframe thead th {\n",
       "        text-align: right;\n",
       "    }\n",
       "</style>\n",
       "<table border=\"1\" class=\"dataframe\">\n",
       "  <thead>\n",
       "    <tr style=\"text-align: right;\">\n",
       "      <th></th>\n",
       "      <th>Name</th>\n",
       "      <th>Total Count</th>\n",
       "      <th>Overall Average Kudos</th>\n",
       "    </tr>\n",
       "  </thead>\n",
       "  <tbody>\n",
       "    <tr>\n",
       "      <th>99</th>\n",
       "      <td>POV Outsider</td>\n",
       "      <td>1187</td>\n",
       "      <td>658.491242</td>\n",
       "    </tr>\n",
       "    <tr>\n",
       "      <th>577</th>\n",
       "      <td>Podfic</td>\n",
       "      <td>746</td>\n",
       "      <td>52.624616</td>\n",
       "    </tr>\n",
       "    <tr>\n",
       "      <th>583</th>\n",
       "      <td>Poetry</td>\n",
       "      <td>1424</td>\n",
       "      <td>70.952321</td>\n",
       "    </tr>\n",
       "  </tbody>\n",
       "</table>\n",
       "</div>"
      ],
      "text/plain": [
       "             Name  Total Count  Overall Average Kudos\n",
       "99   POV Outsider         1187             658.491242\n",
       "577        Podfic          746              52.624616\n",
       "583        Poetry         1424              70.952321"
      ]
     },
     "metadata": {},
     "output_type": "display_data"
    },
    {
     "data": {
      "text/html": [
       "<div>\n",
       "<style scoped>\n",
       "    .dataframe tbody tr th:only-of-type {\n",
       "        vertical-align: middle;\n",
       "    }\n",
       "\n",
       "    .dataframe tbody tr th {\n",
       "        vertical-align: top;\n",
       "    }\n",
       "\n",
       "    .dataframe thead th {\n",
       "        text-align: right;\n",
       "    }\n",
       "</style>\n",
       "<table border=\"1\" class=\"dataframe\">\n",
       "  <thead>\n",
       "    <tr style=\"text-align: right;\">\n",
       "      <th></th>\n",
       "      <th>Name</th>\n",
       "      <th>Total Count</th>\n",
       "      <th>Overall Average Comments</th>\n",
       "    </tr>\n",
       "  </thead>\n",
       "  <tbody>\n",
       "  </tbody>\n",
       "</table>\n",
       "</div>"
      ],
      "text/plain": [
       "Empty DataFrame\n",
       "Columns: [Name, Total Count, Overall Average Comments]\n",
       "Index: []"
      ]
     },
     "metadata": {},
     "output_type": "display_data"
    },
    {
     "data": {
      "text/html": [
       "<div>\n",
       "<style scoped>\n",
       "    .dataframe tbody tr th:only-of-type {\n",
       "        vertical-align: middle;\n",
       "    }\n",
       "\n",
       "    .dataframe tbody tr th {\n",
       "        vertical-align: top;\n",
       "    }\n",
       "\n",
       "    .dataframe thead th {\n",
       "        text-align: right;\n",
       "    }\n",
       "</style>\n",
       "<table border=\"1\" class=\"dataframe\">\n",
       "  <thead>\n",
       "    <tr style=\"text-align: right;\">\n",
       "      <th></th>\n",
       "      <th>Name</th>\n",
       "      <th>Total Count</th>\n",
       "      <th>Overall Average Bookmarks</th>\n",
       "    </tr>\n",
       "  </thead>\n",
       "  <tbody>\n",
       "    <tr>\n",
       "      <th>139</th>\n",
       "      <td>Fix-It of Sorts</td>\n",
       "      <td>961</td>\n",
       "      <td>121.769751</td>\n",
       "    </tr>\n",
       "    <tr>\n",
       "      <th>583</th>\n",
       "      <td>Poetry</td>\n",
       "      <td>1424</td>\n",
       "      <td>7.429468</td>\n",
       "    </tr>\n",
       "  </tbody>\n",
       "</table>\n",
       "</div>"
      ],
      "text/plain": [
       "                Name  Total Count  Overall Average Bookmarks\n",
       "139  Fix-It of Sorts          961                 121.769751\n",
       "583           Poetry         1424                   7.429468"
      ]
     },
     "metadata": {},
     "output_type": "display_data"
    },
    {
     "data": {
      "text/html": [
       "<div>\n",
       "<style scoped>\n",
       "    .dataframe tbody tr th:only-of-type {\n",
       "        vertical-align: middle;\n",
       "    }\n",
       "\n",
       "    .dataframe tbody tr th {\n",
       "        vertical-align: top;\n",
       "    }\n",
       "\n",
       "    .dataframe thead th {\n",
       "        text-align: right;\n",
       "    }\n",
       "</style>\n",
       "<table border=\"1\" class=\"dataframe\">\n",
       "  <thead>\n",
       "    <tr style=\"text-align: right;\">\n",
       "      <th></th>\n",
       "      <th>Name</th>\n",
       "      <th>Total Count</th>\n",
       "      <th>Overall Average Hits</th>\n",
       "    </tr>\n",
       "  </thead>\n",
       "  <tbody>\n",
       "    <tr>\n",
       "      <th>562</th>\n",
       "      <td>No Dialogue</td>\n",
       "      <td>578</td>\n",
       "      <td>865.168582</td>\n",
       "    </tr>\n",
       "  </tbody>\n",
       "</table>\n",
       "</div>"
      ],
      "text/plain": [
       "            Name  Total Count  Overall Average Hits\n",
       "562  No Dialogue          578            865.168582"
      ]
     },
     "metadata": {},
     "output_type": "display_data"
    }
   ],
   "source": [
    "from scipy import stats\n",
    "\n",
    "min_zscore = 3\n",
    "\n",
    "display(filtered_tags_averages_df.iloc[np.where(np.abs(stats.zscore(std_tags_df['Overall Average Kudos'].values)) > min_zscore)][['Name', 'Total Count', 'Overall Average Kudos']])\n",
    "display(filtered_tags_averages_df.iloc[np.where(np.abs(stats.zscore(std_tags_df['Overall Average Comments'].values)) > min_zscore)][['Name', 'Total Count', 'Overall Average Comments']])\n",
    "display(filtered_tags_averages_df.iloc[np.where(np.abs(stats.zscore(std_tags_df['Overall Average Bookmarks'].values)) > min_zscore)][['Name', 'Total Count', 'Overall Average Bookmarks']])\n",
    "display(filtered_tags_averages_df.iloc[np.where(np.abs(stats.zscore(std_tags_df['Overall Average Hits'].values)) > min_zscore)][['Name', 'Total Count', 'Overall Average Hits']])"
   ]
  },
  {
   "cell_type": "markdown",
   "id": "abacd12a",
   "metadata": {},
   "source": [
    "## Viewing Tags Together\n",
    "\n",
    "We will use DBScan to determine if there are any notable outliers.\n",
    "\n",
    "These offer a different view of an \"outlier\", as this is based on a clustering algorithm. This simply shows tags that have holistically different behavior between the four metrics in comparison with other tags."
   ]
  },
  {
   "cell_type": "code",
   "execution_count": 177,
   "id": "cce914b9",
   "metadata": {},
   "outputs": [
    {
     "data": {
      "text/html": [
       "<div>\n",
       "<style scoped>\n",
       "    .dataframe tbody tr th:only-of-type {\n",
       "        vertical-align: middle;\n",
       "    }\n",
       "\n",
       "    .dataframe tbody tr th {\n",
       "        vertical-align: top;\n",
       "    }\n",
       "\n",
       "    .dataframe thead th {\n",
       "        text-align: right;\n",
       "    }\n",
       "</style>\n",
       "<table border=\"1\" class=\"dataframe\">\n",
       "  <thead>\n",
       "    <tr style=\"text-align: right;\">\n",
       "      <th></th>\n",
       "      <th>Name</th>\n",
       "      <th>Total Count</th>\n",
       "      <th>Overall Average Kudos</th>\n",
       "      <th>Overall Average Comments</th>\n",
       "      <th>Overall Average Bookmarks</th>\n",
       "      <th>Overall Average Hits</th>\n",
       "    </tr>\n",
       "  </thead>\n",
       "  <tbody>\n",
       "    <tr>\n",
       "      <th>99</th>\n",
       "      <td>POV Outsider</td>\n",
       "      <td>1187</td>\n",
       "      <td>658.491242</td>\n",
       "      <td>35.827110</td>\n",
       "      <td>112.952738</td>\n",
       "      <td>5382.182365</td>\n",
       "    </tr>\n",
       "    <tr>\n",
       "      <th>455</th>\n",
       "      <td>Gender-Neutral Pronouns</td>\n",
       "      <td>1350</td>\n",
       "      <td>122.273292</td>\n",
       "      <td>9.770619</td>\n",
       "      <td>10.269796</td>\n",
       "      <td>1936.393484</td>\n",
       "    </tr>\n",
       "    <tr>\n",
       "      <th>562</th>\n",
       "      <td>No Dialogue</td>\n",
       "      <td>578</td>\n",
       "      <td>87.432273</td>\n",
       "      <td>5.057398</td>\n",
       "      <td>8.025663</td>\n",
       "      <td>865.168582</td>\n",
       "    </tr>\n",
       "    <tr>\n",
       "      <th>577</th>\n",
       "      <td>Podfic</td>\n",
       "      <td>746</td>\n",
       "      <td>52.624616</td>\n",
       "      <td>8.346468</td>\n",
       "      <td>8.730727</td>\n",
       "      <td>1588.922090</td>\n",
       "    </tr>\n",
       "    <tr>\n",
       "      <th>583</th>\n",
       "      <td>Poetry</td>\n",
       "      <td>1424</td>\n",
       "      <td>70.952321</td>\n",
       "      <td>8.635917</td>\n",
       "      <td>7.429468</td>\n",
       "      <td>915.548389</td>\n",
       "    </tr>\n",
       "  </tbody>\n",
       "</table>\n",
       "</div>"
      ],
      "text/plain": [
       "                        Name  Total Count  Overall Average Kudos  \\\n",
       "99              POV Outsider         1187             658.491242   \n",
       "455  Gender-Neutral Pronouns         1350             122.273292   \n",
       "562              No Dialogue          578              87.432273   \n",
       "577                   Podfic          746              52.624616   \n",
       "583                   Poetry         1424              70.952321   \n",
       "\n",
       "     Overall Average Comments  Overall Average Bookmarks  Overall Average Hits  \n",
       "99                  35.827110                 112.952738           5382.182365  \n",
       "455                  9.770619                  10.269796           1936.393484  \n",
       "562                  5.057398                   8.025663            865.168582  \n",
       "577                  8.346468                   8.730727           1588.922090  \n",
       "583                  8.635917                   7.429468            915.548389  "
      ]
     },
     "metadata": {},
     "output_type": "display_data"
    }
   ],
   "source": [
    "from sklearn.cluster import DBSCAN\n",
    "db_classifier = DBSCAN(eps = 0.3, min_samples = 2)\n",
    "\n",
    "metrics = ['Overall Average Kudos', 'Overall Average Comments', 'Overall Average Bookmarks', 'Overall Average Hits']\n",
    "\n",
    "X = std_tags_df[metrics].values\n",
    "\n",
    "db_classifier.fit(X)\n",
    "labels = db_classifier.labels_\n",
    "# Show noisy tags\n",
    "display(filtered_tags_averages_df[['Name', 'Total Count', 'Overall Average Kudos', 'Overall Average Comments', 'Overall Average Bookmarks', 'Overall Average Hits']].iloc[np.where(labels == -1)])\n"
   ]
  },
  {
   "cell_type": "markdown",
   "id": "5028976a",
   "metadata": {},
   "source": [
    "# Concluding Remarks\n",
    "\n",
    "Overall, these two methods have some overlap. It is difficult to draw any anecdotal insight without consulting someone who actively reads fanfiction, but it is interesting to see a general theme in these outliers. \n",
    "\n",
    "From what can be seen, however, it appears as if the tag \"POV Outsider\" is overall one of the more influential tags in terms of raising Kudo count, while tags like \"Poetry\" and \"No Dialogue\" can be viewed as generally unpopular."
   ]
  },
  {
   "cell_type": "code",
   "execution_count": null,
   "id": "33edd068",
   "metadata": {},
   "outputs": [],
   "source": []
  }
 ],
 "metadata": {
  "kernelspec": {
   "display_name": "Python 3 (ipykernel)",
   "language": "python",
   "name": "python3"
  },
  "language_info": {
   "codemirror_mode": {
    "name": "ipython",
    "version": 3
   },
   "file_extension": ".py",
   "mimetype": "text/x-python",
   "name": "python",
   "nbconvert_exporter": "python",
   "pygments_lexer": "ipython3",
   "version": "3.9.12"
  }
 },
 "nbformat": 4,
 "nbformat_minor": 5
}
