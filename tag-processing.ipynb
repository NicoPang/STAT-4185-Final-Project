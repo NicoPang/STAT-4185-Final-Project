{
 "cells": [
  {
   "cell_type": "code",
   "execution_count": 3,
   "id": "e3aa16a7",
   "metadata": {},
   "outputs": [],
   "source": [
    "import numpy as np\n",
    "import pandas as pd"
   ]
  },
  {
   "cell_type": "code",
   "execution_count": 12,
   "id": "8ff9471b",
   "metadata": {},
   "outputs": [],
   "source": [
    "fandom_dfs = []\n",
    "\n",
    "csv_filenames = ['mha.csv', 'haikyuu.csv', 'aot.csv', 'bsd.csv', 'danganronpa.csv', 'hetalia.csv', 'jojo.csv', 'naruto.csv', 'onepiece.csv', 'pokemon.csv']\n",
    "\n",
    "for csv in csv_filenames:\n",
    "    fandom_dfs.append(pd.read_csv('data/' + csv))\n",
    "    \n",
    "tag_df = pd.read_csv('data/ordered_tags_20210226.csv')"
   ]
  },
  {
   "cell_type": "code",
   "execution_count": 14,
   "id": "a8d4a893",
   "metadata": {},
   "outputs": [
    {
     "name": "stdout",
     "output_type": "stream",
     "text": [
      "<class 'pandas.core.frame.DataFrame'>\n",
      "RangeIndex: 99980 entries, 0 to 99979\n",
      "Data columns (total 7 columns):\n",
      " #   Column     Non-Null Count  Dtype \n",
      "---  ------     --------------  ----- \n",
      " 0   Title      99980 non-null  object\n",
      " 1   Author     99980 non-null  object\n",
      " 2   Kudos      99980 non-null  int64 \n",
      " 3   Comments   99980 non-null  int64 \n",
      " 4   Bookmarks  99980 non-null  int64 \n",
      " 5   Hits       99980 non-null  int64 \n",
      " 6   Tags       99980 non-null  object\n",
      "dtypes: int64(4), object(3)\n",
      "memory usage: 5.3+ MB\n"
     ]
    },
    {
     "data": {
      "text/plain": [
       "None"
      ]
     },
     "metadata": {},
     "output_type": "display_data"
    },
    {
     "name": "stdout",
     "output_type": "stream",
     "text": [
      "<class 'pandas.core.frame.DataFrame'>\n",
      "RangeIndex: 100000 entries, 0 to 99999\n",
      "Data columns (total 7 columns):\n",
      " #   Column     Non-Null Count   Dtype \n",
      "---  ------     --------------   ----- \n",
      " 0   Title      100000 non-null  object\n",
      " 1   Author     100000 non-null  object\n",
      " 2   Kudos      100000 non-null  int64 \n",
      " 3   Comments   100000 non-null  int64 \n",
      " 4   Bookmarks  100000 non-null  int64 \n",
      " 5   Hits       100000 non-null  int64 \n",
      " 6   Tags       100000 non-null  object\n",
      "dtypes: int64(4), object(3)\n",
      "memory usage: 5.3+ MB\n"
     ]
    },
    {
     "data": {
      "text/plain": [
       "None"
      ]
     },
     "metadata": {},
     "output_type": "display_data"
    },
    {
     "name": "stdout",
     "output_type": "stream",
     "text": [
      "<class 'pandas.core.frame.DataFrame'>\n",
      "RangeIndex: 42334 entries, 0 to 42333\n",
      "Data columns (total 7 columns):\n",
      " #   Column     Non-Null Count  Dtype \n",
      "---  ------     --------------  ----- \n",
      " 0   Title      42334 non-null  object\n",
      " 1   Author     42334 non-null  object\n",
      " 2   Kudos      42334 non-null  int64 \n",
      " 3   Comments   42334 non-null  int64 \n",
      " 4   Bookmarks  42334 non-null  int64 \n",
      " 5   Hits       42334 non-null  int64 \n",
      " 6   Tags       42334 non-null  object\n",
      "dtypes: int64(4), object(3)\n",
      "memory usage: 2.3+ MB\n"
     ]
    },
    {
     "data": {
      "text/plain": [
       "None"
      ]
     },
     "metadata": {},
     "output_type": "display_data"
    },
    {
     "name": "stdout",
     "output_type": "stream",
     "text": [
      "<class 'pandas.core.frame.DataFrame'>\n",
      "RangeIndex: 34819 entries, 0 to 34818\n",
      "Data columns (total 7 columns):\n",
      " #   Column     Non-Null Count  Dtype \n",
      "---  ------     --------------  ----- \n",
      " 0   Title      34819 non-null  object\n",
      " 1   Author     34819 non-null  object\n",
      " 2   Kudos      34819 non-null  int64 \n",
      " 3   Comments   34819 non-null  int64 \n",
      " 4   Bookmarks  34819 non-null  int64 \n",
      " 5   Hits       34819 non-null  int64 \n",
      " 6   Tags       34819 non-null  object\n",
      "dtypes: int64(4), object(3)\n",
      "memory usage: 1.9+ MB\n"
     ]
    },
    {
     "data": {
      "text/plain": [
       "None"
      ]
     },
     "metadata": {},
     "output_type": "display_data"
    },
    {
     "name": "stdout",
     "output_type": "stream",
     "text": [
      "<class 'pandas.core.frame.DataFrame'>\n",
      "RangeIndex: 35925 entries, 0 to 35924\n",
      "Data columns (total 7 columns):\n",
      " #   Column     Non-Null Count  Dtype \n",
      "---  ------     --------------  ----- \n",
      " 0   Title      35925 non-null  object\n",
      " 1   Author     35923 non-null  object\n",
      " 2   Kudos      35925 non-null  int64 \n",
      " 3   Comments   35925 non-null  int64 \n",
      " 4   Bookmarks  35925 non-null  int64 \n",
      " 5   Hits       35925 non-null  int64 \n",
      " 6   Tags       35925 non-null  object\n",
      "dtypes: int64(4), object(3)\n",
      "memory usage: 1.9+ MB\n"
     ]
    },
    {
     "data": {
      "text/plain": [
       "None"
      ]
     },
     "metadata": {},
     "output_type": "display_data"
    },
    {
     "name": "stdout",
     "output_type": "stream",
     "text": [
      "<class 'pandas.core.frame.DataFrame'>\n",
      "RangeIndex: 33378 entries, 0 to 33377\n",
      "Data columns (total 7 columns):\n",
      " #   Column     Non-Null Count  Dtype \n",
      "---  ------     --------------  ----- \n",
      " 0   Title      33378 non-null  object\n",
      " 1   Author     33378 non-null  object\n",
      " 2   Kudos      33378 non-null  int64 \n",
      " 3   Comments   33378 non-null  int64 \n",
      " 4   Bookmarks  33378 non-null  int64 \n",
      " 5   Hits       33378 non-null  int64 \n",
      " 6   Tags       33378 non-null  object\n",
      "dtypes: int64(4), object(3)\n",
      "memory usage: 1.8+ MB\n"
     ]
    },
    {
     "data": {
      "text/plain": [
       "None"
      ]
     },
     "metadata": {},
     "output_type": "display_data"
    },
    {
     "name": "stdout",
     "output_type": "stream",
     "text": [
      "<class 'pandas.core.frame.DataFrame'>\n",
      "RangeIndex: 30086 entries, 0 to 30085\n",
      "Data columns (total 7 columns):\n",
      " #   Column     Non-Null Count  Dtype \n",
      "---  ------     --------------  ----- \n",
      " 0   Title      30086 non-null  object\n",
      " 1   Author     30086 non-null  object\n",
      " 2   Kudos      30086 non-null  int64 \n",
      " 3   Comments   30086 non-null  int64 \n",
      " 4   Bookmarks  30086 non-null  int64 \n",
      " 5   Hits       30086 non-null  int64 \n",
      " 6   Tags       30086 non-null  object\n",
      "dtypes: int64(4), object(3)\n",
      "memory usage: 1.6+ MB\n"
     ]
    },
    {
     "data": {
      "text/plain": [
       "None"
      ]
     },
     "metadata": {},
     "output_type": "display_data"
    },
    {
     "name": "stdout",
     "output_type": "stream",
     "text": [
      "<class 'pandas.core.frame.DataFrame'>\n",
      "RangeIndex: 59399 entries, 0 to 59398\n",
      "Data columns (total 7 columns):\n",
      " #   Column     Non-Null Count  Dtype \n",
      "---  ------     --------------  ----- \n",
      " 0   Title      59399 non-null  object\n",
      " 1   Author     59399 non-null  object\n",
      " 2   Kudos      59399 non-null  int64 \n",
      " 3   Comments   59399 non-null  int64 \n",
      " 4   Bookmarks  59399 non-null  int64 \n",
      " 5   Hits       59399 non-null  int64 \n",
      " 6   Tags       59399 non-null  object\n",
      "dtypes: int64(4), object(3)\n",
      "memory usage: 3.2+ MB\n"
     ]
    },
    {
     "data": {
      "text/plain": [
       "None"
      ]
     },
     "metadata": {},
     "output_type": "display_data"
    },
    {
     "name": "stdout",
     "output_type": "stream",
     "text": [
      "<class 'pandas.core.frame.DataFrame'>\n",
      "RangeIndex: 29886 entries, 0 to 29885\n",
      "Data columns (total 7 columns):\n",
      " #   Column     Non-Null Count  Dtype \n",
      "---  ------     --------------  ----- \n",
      " 0   Title      29886 non-null  object\n",
      " 1   Author     29886 non-null  object\n",
      " 2   Kudos      29886 non-null  int64 \n",
      " 3   Comments   29886 non-null  int64 \n",
      " 4   Bookmarks  29886 non-null  int64 \n",
      " 5   Hits       29886 non-null  int64 \n",
      " 6   Tags       29886 non-null  object\n",
      "dtypes: int64(4), object(3)\n",
      "memory usage: 1.6+ MB\n"
     ]
    },
    {
     "data": {
      "text/plain": [
       "None"
      ]
     },
     "metadata": {},
     "output_type": "display_data"
    },
    {
     "name": "stdout",
     "output_type": "stream",
     "text": [
      "<class 'pandas.core.frame.DataFrame'>\n",
      "RangeIndex: 30745 entries, 0 to 30744\n",
      "Data columns (total 7 columns):\n",
      " #   Column     Non-Null Count  Dtype \n",
      "---  ------     --------------  ----- \n",
      " 0   Title      30745 non-null  object\n",
      " 1   Author     30745 non-null  object\n",
      " 2   Kudos      30745 non-null  int64 \n",
      " 3   Comments   30745 non-null  int64 \n",
      " 4   Bookmarks  30745 non-null  int64 \n",
      " 5   Hits       30745 non-null  int64 \n",
      " 6   Tags       30745 non-null  object\n",
      "dtypes: int64(4), object(3)\n",
      "memory usage: 1.6+ MB\n"
     ]
    },
    {
     "data": {
      "text/plain": [
       "None"
      ]
     },
     "metadata": {},
     "output_type": "display_data"
    },
    {
     "data": {
      "text/html": [
       "<div>\n",
       "<style scoped>\n",
       "    .dataframe tbody tr th:only-of-type {\n",
       "        vertical-align: middle;\n",
       "    }\n",
       "\n",
       "    .dataframe tbody tr th {\n",
       "        vertical-align: top;\n",
       "    }\n",
       "\n",
       "    .dataframe thead th {\n",
       "        text-align: right;\n",
       "    }\n",
       "</style>\n",
       "<table border=\"1\" class=\"dataframe\">\n",
       "  <thead>\n",
       "    <tr style=\"text-align: right;\">\n",
       "      <th></th>\n",
       "      <th>Unnamed: 0</th>\n",
       "      <th>name</th>\n",
       "      <th>canonical</th>\n",
       "      <th>merger_id</th>\n",
       "    </tr>\n",
       "  </thead>\n",
       "  <tbody>\n",
       "    <tr>\n",
       "      <th>0</th>\n",
       "      <td>0</td>\n",
       "      <td>! ! !</td>\n",
       "      <td>False</td>\n",
       "      <td>NaN</td>\n",
       "    </tr>\n",
       "    <tr>\n",
       "      <th>1</th>\n",
       "      <td>1</td>\n",
       "      <td>! - Freeform</td>\n",
       "      <td>False</td>\n",
       "      <td>NaN</td>\n",
       "    </tr>\n",
       "    <tr>\n",
       "      <th>2</th>\n",
       "      <td>2</td>\n",
       "      <td>! to read</td>\n",
       "      <td>False</td>\n",
       "      <td>312096.0</td>\n",
       "    </tr>\n",
       "    <tr>\n",
       "      <th>3</th>\n",
       "      <td>3</td>\n",
       "      <td>!!</td>\n",
       "      <td>False</td>\n",
       "      <td>NaN</td>\n",
       "    </tr>\n",
       "    <tr>\n",
       "      <th>4</th>\n",
       "      <td>4</td>\n",
       "      <td>!!!</td>\n",
       "      <td>False</td>\n",
       "      <td>NaN</td>\n",
       "    </tr>\n",
       "    <tr>\n",
       "      <th>5</th>\n",
       "      <td>5</td>\n",
       "      <td>!!!!</td>\n",
       "      <td>False</td>\n",
       "      <td>NaN</td>\n",
       "    </tr>\n",
       "    <tr>\n",
       "      <th>6</th>\n",
       "      <td>6</td>\n",
       "      <td>!!!!!</td>\n",
       "      <td>False</td>\n",
       "      <td>NaN</td>\n",
       "    </tr>\n",
       "    <tr>\n",
       "      <th>7</th>\n",
       "      <td>7</td>\n",
       "      <td>!!!!!!</td>\n",
       "      <td>False</td>\n",
       "      <td>NaN</td>\n",
       "    </tr>\n",
       "    <tr>\n",
       "      <th>8</th>\n",
       "      <td>8</td>\n",
       "      <td>!!!!!!!</td>\n",
       "      <td>False</td>\n",
       "      <td>NaN</td>\n",
       "    </tr>\n",
       "    <tr>\n",
       "      <th>9</th>\n",
       "      <td>9</td>\n",
       "      <td>!!!!!!!!</td>\n",
       "      <td>False</td>\n",
       "      <td>NaN</td>\n",
       "    </tr>\n",
       "    <tr>\n",
       "      <th>10</th>\n",
       "      <td>10</td>\n",
       "      <td>!!!!!!!!!</td>\n",
       "      <td>False</td>\n",
       "      <td>NaN</td>\n",
       "    </tr>\n",
       "    <tr>\n",
       "      <th>11</th>\n",
       "      <td>11</td>\n",
       "      <td>!!!!!!!!!!</td>\n",
       "      <td>False</td>\n",
       "      <td>NaN</td>\n",
       "    </tr>\n",
       "    <tr>\n",
       "      <th>12</th>\n",
       "      <td>12</td>\n",
       "      <td>!!!!!!!!!!!</td>\n",
       "      <td>False</td>\n",
       "      <td>NaN</td>\n",
       "    </tr>\n",
       "    <tr>\n",
       "      <th>13</th>\n",
       "      <td>13</td>\n",
       "      <td>!!!!!!!!!!!!</td>\n",
       "      <td>False</td>\n",
       "      <td>NaN</td>\n",
       "    </tr>\n",
       "    <tr>\n",
       "      <th>14</th>\n",
       "      <td>14</td>\n",
       "      <td>!!!!!!!!!!!!!</td>\n",
       "      <td>False</td>\n",
       "      <td>NaN</td>\n",
       "    </tr>\n",
       "    <tr>\n",
       "      <th>15</th>\n",
       "      <td>15</td>\n",
       "      <td>!!!!!!!!!!!!!!</td>\n",
       "      <td>False</td>\n",
       "      <td>NaN</td>\n",
       "    </tr>\n",
       "    <tr>\n",
       "      <th>16</th>\n",
       "      <td>16</td>\n",
       "      <td>!!!!!!!!!!!!!!!</td>\n",
       "      <td>False</td>\n",
       "      <td>NaN</td>\n",
       "    </tr>\n",
       "    <tr>\n",
       "      <th>17</th>\n",
       "      <td>17</td>\n",
       "      <td>!!!!!!!!!!!!!!!!</td>\n",
       "      <td>False</td>\n",
       "      <td>NaN</td>\n",
       "    </tr>\n",
       "    <tr>\n",
       "      <th>18</th>\n",
       "      <td>18</td>\n",
       "      <td>!!!!!!!!!!!!!!!!!</td>\n",
       "      <td>False</td>\n",
       "      <td>NaN</td>\n",
       "    </tr>\n",
       "    <tr>\n",
       "      <th>19</th>\n",
       "      <td>19</td>\n",
       "      <td>!!!!!!!!!!!!!!!!!!</td>\n",
       "      <td>False</td>\n",
       "      <td>NaN</td>\n",
       "    </tr>\n",
       "  </tbody>\n",
       "</table>\n",
       "</div>"
      ],
      "text/plain": [
       "    Unnamed: 0                name  canonical  merger_id\n",
       "0            0               ! ! !      False        NaN\n",
       "1            1        ! - Freeform      False        NaN\n",
       "2            2           ! to read      False   312096.0\n",
       "3            3                  !!      False        NaN\n",
       "4            4                 !!!      False        NaN\n",
       "5            5                !!!!      False        NaN\n",
       "6            6               !!!!!      False        NaN\n",
       "7            7              !!!!!!      False        NaN\n",
       "8            8             !!!!!!!      False        NaN\n",
       "9            9            !!!!!!!!      False        NaN\n",
       "10          10           !!!!!!!!!      False        NaN\n",
       "11          11          !!!!!!!!!!      False        NaN\n",
       "12          12         !!!!!!!!!!!      False        NaN\n",
       "13          13        !!!!!!!!!!!!      False        NaN\n",
       "14          14       !!!!!!!!!!!!!      False        NaN\n",
       "15          15      !!!!!!!!!!!!!!      False        NaN\n",
       "16          16     !!!!!!!!!!!!!!!      False        NaN\n",
       "17          17    !!!!!!!!!!!!!!!!      False        NaN\n",
       "18          18   !!!!!!!!!!!!!!!!!      False        NaN\n",
       "19          19  !!!!!!!!!!!!!!!!!!      False        NaN"
      ]
     },
     "metadata": {},
     "output_type": "display_data"
    }
   ],
   "source": [
    "for i in range(len(fandom_dfs)):\n",
    "    fandom_dfs[i] = fandom_dfs[i][['Title', 'Author', 'Kudos', 'Comments', 'Bookmarks', 'Hits', 'Tags']]\n",
    "    \n",
    "for df in fandom_dfs:\n",
    "    display(df.info())\n",
    "    \n",
    "display(tag_df.head(20))"
   ]
  },
  {
   "cell_type": "code",
   "execution_count": null,
   "id": "e2fd89e4",
   "metadata": {},
   "outputs": [],
   "source": []
  }
 ],
 "metadata": {
  "kernelspec": {
   "display_name": "Python 3 (ipykernel)",
   "language": "python",
   "name": "python3"
  },
  "language_info": {
   "codemirror_mode": {
    "name": "ipython",
    "version": 3
   },
   "file_extension": ".py",
   "mimetype": "text/x-python",
   "name": "python",
   "nbconvert_exporter": "python",
   "pygments_lexer": "ipython3",
   "version": "3.9.12"
  }
 },
 "nbformat": 4,
 "nbformat_minor": 5
}
